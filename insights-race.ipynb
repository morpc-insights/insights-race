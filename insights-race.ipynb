{
 "cells": [
  {
   "cell_type": "markdown",
   "id": "5c699616-fd0b-4345-b204-a7eaee51fd95",
   "metadata": {},
   "source": [
    "# MORPC Insights - Race and Ethnicity"
   ]
  },
  {
   "cell_type": "markdown",
   "id": "f266558b-c357-429c-b3ec-074e23751904",
   "metadata": {},
   "source": [
    "## Overview"
   ]
  },
  {
   "cell_type": "markdown",
   "id": "caffba84-d13c-412f-8992-c686048f1a68",
   "metadata": {},
   "source": [
    "The U.S. Census Population Estimates Program (PEP) produces a data product called [County Population by Characteristics](https://www.census.gov/data/tables/time-series/demo/popest/2020s-counties-detail.html) which contains county level estimates of population by age, race, and sex.  Each year the program releases a new \"vintage\" of the estimates which includes the most recent year and revised estimates for prior years going back to the last decennial census.\n",
    "  \n",
    "This notebook produces a tileset that includes a summary of population by race and ethnicity for the MORPC 15-county region and the counties therein.  This notebook is the final stage in a pipeline that fetches, standardizes, and summarizes the PEP population characteristics data."
   ]
  },
  {
   "cell_type": "markdown",
   "id": "12f498db-624a-4612-98bc-4fb293545126",
   "metadata": {},
   "source": [
    "## Setup"
   ]
  },
  {
   "cell_type": "markdown",
   "id": "e78b2de3-e2a7-4a7f-8ac4-15b7ec9e1878",
   "metadata": {},
   "source": [
    "### Load required libraries"
   ]
  },
  {
   "cell_type": "code",
   "execution_count": 1,
   "id": "218f7cbb-4c18-4bb6-b5c9-67b13bbf20cb",
   "metadata": {},
   "outputs": [],
   "source": [
    "import pandas as pd\n",
    "import numpy as np\n",
    "import frictionless\n",
    "import os\n",
    "import sys\n",
    "import json\n",
    "import datetime\n",
    "import textwrap\n",
    "import matplotlib\n",
    "from matplotlib import pyplot as plt\n",
    "sys.path.append(os.path.normpath(\"../morpc-common\"))\n",
    "import morpc"
   ]
  },
  {
   "cell_type": "markdown",
   "id": "7dafa778-fe68-4ff2-845a-071e1953d178",
   "metadata": {},
   "source": [
    "### User-specified parameters"
   ]
  },
  {
   "cell_type": "code",
   "execution_count": 2,
   "id": "cda8a1e3-db9a-4d81-a3d4-146e8f66018c",
   "metadata": {},
   "outputs": [],
   "source": [
    "YEAR_RANGE = [2010, 2023]"
   ]
  },
  {
   "cell_type": "markdown",
   "id": "2d807186-9539-4286-b975-68d7afa999aa",
   "metadata": {},
   "source": [
    "### Static parameters"
   ]
  },
  {
   "cell_type": "code",
   "execution_count": 3,
   "id": "1c95808b-a8b8-45e2-9653-7f177dbf7cf5",
   "metadata": {},
   "outputs": [],
   "source": [
    "INPUT_DIR = os.path.normpath(\"./input_data\")\n",
    "\n",
    "OUTPUT_DIR = os.path.normpath(\"./output_data\")\n",
    "\n",
    "CHART_DIRNAME = \"charts\"\n",
    "\n",
    "# The following map will be used to combine various race categories into a simplified set.\n",
    "# The new set will consist of White, Asian, Black or African American alone (all non-Hispanic),\n",
    "# plus some other race alone (non-Hispanic), plus two or more races (non-Hispanic), plus Hispanic\n",
    "# or Latino (any races).\n",
    "RACE_MAP = {\n",
    "    \"White\": [\"NHWA\"],\n",
    "    \"Asian\": [\"NHAA\"],\n",
    "    \"Black or African American\": [\"NHBA\"],\n",
    "    \"Some other race\": [\"NHIA\",\"NHNA\"],\n",
    "    \"Two or more races\": [\"NHTOM\"],\n",
    "    \"Hispanic or Latino (any races)\": [\"HAA\",\"HBA\",\"HIA\",\"HNA\",\"HTOM\",\"HWA\"]\n",
    "}"
   ]
  },
  {
   "cell_type": "markdown",
   "id": "3e0f86cf-e578-43c5-809a-10502263c5c4",
   "metadata": {},
   "source": [
    "### Define inputs"
   ]
  },
  {
   "cell_type": "markdown",
   "id": "7778c336-3e52-4beb-848a-66eaa6eb221d",
   "metadata": {},
   "source": [
    "#### Create input data directory"
   ]
  },
  {
   "cell_type": "markdown",
   "id": "d6036e8e-8c0c-41bf-8f2a-4bd63ec21059",
   "metadata": {},
   "source": [
    "Create input data directory if it doesn't exist."
   ]
  },
  {
   "cell_type": "code",
   "execution_count": 4,
   "id": "50e4f010-ae38-416f-80a5-c5c0cf3e444e",
   "metadata": {},
   "outputs": [],
   "source": [
    "inputDir = os.path.normpath(INPUT_DIR)\n",
    "if not os.path.exists(inputDir):\n",
    "    os.makedirs(inputDir)"
   ]
  },
  {
   "cell_type": "markdown",
   "id": "88bb506d-be1a-4cee-9274-28fe61c80c01",
   "metadata": {},
   "source": [
    "#### Census PEP population characteristics data (standardized)"
   ]
  },
  {
   "cell_type": "code",
   "execution_count": 5,
   "id": "fed15fa9-86db-4a47-88d3-6e73260c0128",
   "metadata": {},
   "outputs": [
    {
     "name": "stdout",
     "output_type": "stream",
     "text": [
      "Resource file: ..\\morpc-censuspep-standardize\\output_data\\censusPep_county_char.resource.yaml\n"
     ]
    }
   ],
   "source": [
    "PEP_INPUT_RESOURCE = os.path.normpath(\"../morpc-censuspep-standardize/output_data/censusPep_county_char.resource.yaml\")\n",
    "print(\"Resource file: {}\".format(PEP_INPUT_RESOURCE))"
   ]
  },
  {
   "cell_type": "markdown",
   "id": "ae74c606-606d-406e-bef1-ec740db1c0ed",
   "metadata": {
    "tags": []
   },
   "source": [
    "### Define outputs"
   ]
  },
  {
   "cell_type": "markdown",
   "id": "e99f094c-d946-4f72-8184-f5cea1cd18ea",
   "metadata": {
    "tags": []
   },
   "source": [
    "#### Create output data directory"
   ]
  },
  {
   "cell_type": "markdown",
   "id": "1ede1075-913c-4ec7-9f81-2b593d8dbea7",
   "metadata": {},
   "source": [
    "Create output data directory if it doesn't exist."
   ]
  },
  {
   "cell_type": "code",
   "execution_count": 7,
   "id": "6eb8522f-e434-4530-9f5f-4f3a9cf0ff5e",
   "metadata": {},
   "outputs": [],
   "source": [
    "outputDir = os.path.normpath(OUTPUT_DIR)\n",
    "if not os.path.exists(outputDir):\n",
    "    os.makedirs(outputDir)   "
   ]
  },
  {
   "cell_type": "code",
   "execution_count": 8,
   "id": "ed0fd019-9624-47a0-8cf0-9f494057663c",
   "metadata": {},
   "outputs": [],
   "source": [
    "chartDir = os.path.join(outputDir, CHART_DIRNAME)\n",
    "if not os.path.exists(chartDir):\n",
    "    os.makedirs(chartDir)    "
   ]
  },
  {
   "cell_type": "markdown",
   "id": "2ea44deb-b239-4ae1-9040-244404a429b5",
   "metadata": {
    "tags": []
   },
   "source": [
    "#### Population characteristics data (summarized)"
   ]
  },
  {
   "cell_type": "code",
   "execution_count": 9,
   "id": "d0746090-6e45-40e4-a248-81b52879e4f1",
   "metadata": {},
   "outputs": [
    {
     "name": "stdout",
     "output_type": "stream",
     "text": [
      "Data: output_data\\insights-race.csv\n",
      "Schema: output_data\\insights-race.schema.yaml\n",
      "Resource file: output_data\\insights-race.resource.yaml\n"
     ]
    }
   ],
   "source": [
    "OUTPUT_TABLE_FILENAME = \"insights-race.csv\"\n",
    "OUTPUT_TABLE_PATH = os.path.join(outputDir, OUTPUT_TABLE_FILENAME)\n",
    "OUTPUT_TABLE_SCHEMA_PATH = OUTPUT_TABLE_PATH.replace(\".csv\",\".schema.yaml\")\n",
    "OUTPUT_TABLE_RESOURCE_PATH = OUTPUT_TABLE_PATH.replace(\".csv\",\".resource.yaml\")\n",
    "print(\"Data: {}\".format(OUTPUT_TABLE_PATH))\n",
    "print(\"Schema: {}\".format(OUTPUT_TABLE_SCHEMA_PATH))\n",
    "print(\"Resource file: {}\".format(OUTPUT_TABLE_RESOURCE_PATH))"
   ]
  },
  {
   "cell_type": "markdown",
   "id": "acfb611a-e884-49ee-8431-adac7534438d",
   "metadata": {},
   "source": [
    "## Prepare input data"
   ]
  },
  {
   "cell_type": "markdown",
   "id": "1fdab135-8283-49f2-b8b3-94f6b7c3b43c",
   "metadata": {},
   "source": [
    "### Load standardized PEP data from upstream workflows"
   ]
  },
  {
   "cell_type": "code",
   "execution_count": 13,
   "id": "2d947ec7-5338-47ef-8a66-418db1472a88",
   "metadata": {},
   "outputs": [
    {
     "name": "stdout",
     "output_type": "stream",
     "text": [
      "morpc.load_frictionless_data | INFO | Loading Frictionless Resource file at location ..\\morpc-censuspep-standardize\\output_data\\censusPep_county_char.resource.yaml\n",
      "morpc.load_frictionless_data | INFO | Copying data, resource file, and schema to directory input_data\n",
      "morpc.load_frictionless_data | INFO | --> Data file: input_data\\censusPep_county_char.csv\n",
      "morpc.load_frictionless_data | INFO | --> Resource file: input_data\\censusPep_county_char.resource.yaml\n",
      "morpc.load_frictionless_data | INFO | --> Schema file: input_data\\censusPep_county_char.schema.yaml\n",
      "morpc.load_frictionless_data | INFO | Validating resource including data and schema.\n",
      "morpc.frictionless_validate_resource | INFO | Validating resource on disk (including data and schema). This may take some time.\n",
      "morpc.frictionless_validate_resource | INFO | Resource is valid\n",
      "morpc.load_frictionless_data | INFO | Loading data.\n",
      "frictionless_cast_field_types | INFO | Casting field GEOID as type string.\n",
      "frictionless_cast_field_types | INFO | Casting field STATE as type string.\n",
      "frictionless_cast_field_types | INFO | Casting field COUNTY as type string.\n",
      "frictionless_cast_field_types | INFO | Casting field SEX as type string.\n",
      "frictionless_cast_field_types | INFO | Casting field RACE as type string.\n",
      "frictionless_cast_field_types | INFO | Casting field AGEGROUP as type string.\n",
      "frictionless_cast_field_types | INFO | Casting field SOURCE as type string.\n",
      "frictionless_cast_field_types | INFO | Casting field VINTAGE as type integer.\n",
      "frictionless_cast_field_types | INFO | Casting field YEAR as type integer.\n",
      "frictionless_cast_field_types | INFO | Casting field POP as type integer.\n"
     ]
    }
   ],
   "source": [
    "(pepRaw, pepRawResource, pepRawSchema) = morpc.frictionless_load_data(PEP_INPUT_RESOURCE, validate=True, archiveDir=inputDir)"
   ]
  },
  {
   "cell_type": "code",
   "execution_count": 340,
   "id": "c308f782-ac11-4073-97bc-6b3b02706754",
   "metadata": {},
   "outputs": [
    {
     "data": {
      "text/html": [
       "<div>\n",
       "<style scoped>\n",
       "    .dataframe tbody tr th:only-of-type {\n",
       "        vertical-align: middle;\n",
       "    }\n",
       "\n",
       "    .dataframe tbody tr th {\n",
       "        vertical-align: top;\n",
       "    }\n",
       "\n",
       "    .dataframe thead th {\n",
       "        text-align: right;\n",
       "    }\n",
       "</style>\n",
       "<table border=\"1\" class=\"dataframe\">\n",
       "  <thead>\n",
       "    <tr style=\"text-align: right;\">\n",
       "      <th></th>\n",
       "      <th>GEOID</th>\n",
       "      <th>STATE</th>\n",
       "      <th>COUNTY</th>\n",
       "      <th>SEX</th>\n",
       "      <th>RACE</th>\n",
       "      <th>AGEGROUP</th>\n",
       "      <th>SOURCE</th>\n",
       "      <th>VINTAGE</th>\n",
       "      <th>YEAR</th>\n",
       "      <th>POP</th>\n",
       "    </tr>\n",
       "  </thead>\n",
       "  <tbody>\n",
       "    <tr>\n",
       "      <th>0</th>\n",
       "      <td>39001</td>\n",
       "      <td>Ohio</td>\n",
       "      <td>Adams</td>\n",
       "      <td>F</td>\n",
       "      <td>AA</td>\n",
       "      <td>0 to 4</td>\n",
       "      <td>INT</td>\n",
       "      <td>2012</td>\n",
       "      <td>2000</td>\n",
       "      <td>1</td>\n",
       "    </tr>\n",
       "    <tr>\n",
       "      <th>1</th>\n",
       "      <td>39001</td>\n",
       "      <td>Ohio</td>\n",
       "      <td>Adams</td>\n",
       "      <td>F</td>\n",
       "      <td>AA</td>\n",
       "      <td>0 to 4</td>\n",
       "      <td>INT</td>\n",
       "      <td>2012</td>\n",
       "      <td>2001</td>\n",
       "      <td>1</td>\n",
       "    </tr>\n",
       "    <tr>\n",
       "      <th>2</th>\n",
       "      <td>39001</td>\n",
       "      <td>Ohio</td>\n",
       "      <td>Adams</td>\n",
       "      <td>F</td>\n",
       "      <td>AA</td>\n",
       "      <td>0 to 4</td>\n",
       "      <td>INT</td>\n",
       "      <td>2012</td>\n",
       "      <td>2002</td>\n",
       "      <td>1</td>\n",
       "    </tr>\n",
       "    <tr>\n",
       "      <th>3</th>\n",
       "      <td>39001</td>\n",
       "      <td>Ohio</td>\n",
       "      <td>Adams</td>\n",
       "      <td>F</td>\n",
       "      <td>AA</td>\n",
       "      <td>0 to 4</td>\n",
       "      <td>INT</td>\n",
       "      <td>2012</td>\n",
       "      <td>2003</td>\n",
       "      <td>1</td>\n",
       "    </tr>\n",
       "    <tr>\n",
       "      <th>4</th>\n",
       "      <td>39001</td>\n",
       "      <td>Ohio</td>\n",
       "      <td>Adams</td>\n",
       "      <td>F</td>\n",
       "      <td>AA</td>\n",
       "      <td>0 to 4</td>\n",
       "      <td>INT</td>\n",
       "      <td>2012</td>\n",
       "      <td>2004</td>\n",
       "      <td>1</td>\n",
       "    </tr>\n",
       "  </tbody>\n",
       "</table>\n",
       "</div>"
      ],
      "text/plain": [
       "   GEOID STATE COUNTY SEX RACE AGEGROUP SOURCE  VINTAGE  YEAR  POP\n",
       "0  39001  Ohio  Adams   F   AA   0 to 4    INT     2012  2000    1\n",
       "1  39001  Ohio  Adams   F   AA   0 to 4    INT     2012  2001    1\n",
       "2  39001  Ohio  Adams   F   AA   0 to 4    INT     2012  2002    1\n",
       "3  39001  Ohio  Adams   F   AA   0 to 4    INT     2012  2003    1\n",
       "4  39001  Ohio  Adams   F   AA   0 to 4    INT     2012  2004    1"
      ]
     },
     "execution_count": 340,
     "metadata": {},
     "output_type": "execute_result"
    }
   ],
   "source": [
    "pepRaw.head()"
   ]
  },
  {
   "cell_type": "code",
   "execution_count": 494,
   "id": "b7365068-1301-4bc4-951b-498974ce6410",
   "metadata": {},
   "outputs": [],
   "source": [
    "pep = pepRaw.copy()"
   ]
  },
  {
   "cell_type": "markdown",
   "id": "0c7bced1-052e-402d-85f4-609304af24d2",
   "metadata": {},
   "source": [
    "## Transform data to format required by Insights platform"
   ]
  },
  {
   "cell_type": "markdown",
   "id": "30c7de34-9fee-4df4-886e-96d38a757efd",
   "metadata": {},
   "source": [
    "### Extract records of interest"
   ]
  },
  {
   "cell_type": "markdown",
   "id": "d1a74393-9136-4831-80e7-fcb2ddda2cee",
   "metadata": {},
   "source": [
    "Extract records for MORPC counties."
   ]
  },
  {
   "cell_type": "code",
   "execution_count": 495,
   "id": "4ec6dea3-04bd-49ca-bf6e-b420b2989125",
   "metadata": {},
   "outputs": [],
   "source": [
    "pep = pep.loc[pep[\"COUNTY\"].isin(morpc.CONST_REGIONS[\"15-County Region\"])].copy()"
   ]
  },
  {
   "cell_type": "markdown",
   "id": "4515647f-f48b-4100-9240-cc5945635f00",
   "metadata": {},
   "source": [
    "Extract records for the specified range of years."
   ]
  },
  {
   "cell_type": "code",
   "execution_count": 496,
   "id": "8dcefb21-1b5b-46d5-9ff8-153a1fdedab9",
   "metadata": {},
   "outputs": [],
   "source": [
    "pep = pep.loc[pep[\"YEAR\"].isin(range(YEAR_RANGE[0], YEAR_RANGE[1]+1))].copy()"
   ]
  },
  {
   "cell_type": "markdown",
   "id": "77bac6f6-ff6f-4d55-9cd5-c23708a34a26",
   "metadata": {},
   "source": [
    "The remaining records include the following vintages for each reference year."
   ]
  },
  {
   "cell_type": "code",
   "execution_count": 497,
   "id": "e0320388-b04e-47aa-a687-d9ec3c74a17e",
   "metadata": {},
   "outputs": [
    {
     "name": "stdout",
     "output_type": "stream",
     "text": [
      "2010: [np.int64(2012), np.int64(2020)]\n",
      "2011: [np.int64(2020)]\n",
      "2012: [np.int64(2020)]\n",
      "2013: [np.int64(2020)]\n",
      "2014: [np.int64(2020)]\n",
      "2015: [np.int64(2020)]\n",
      "2016: [np.int64(2020)]\n",
      "2017: [np.int64(2020)]\n",
      "2018: [np.int64(2020)]\n",
      "2019: [np.int64(2020)]\n",
      "2020: [np.int64(2020), np.int64(2023)]\n",
      "2021: [np.int64(2023)]\n",
      "2022: [np.int64(2023)]\n",
      "2023: [np.int64(2023)]\n"
     ]
    }
   ],
   "source": [
    "for year in pep[\"YEAR\"].unique():\n",
    "    vintages = list(pep.loc[pep[\"YEAR\"] == year, \"VINTAGE\"].unique())\n",
    "    print(\"{}: {}\".format(year, vintages))"
   ]
  },
  {
   "cell_type": "markdown",
   "id": "27fb3258-52ce-4eac-a5d0-3cea300aedcc",
   "metadata": {},
   "source": [
    "Extract the estimate for each year from the latest available vintage."
   ]
  },
  {
   "cell_type": "code",
   "execution_count": 498,
   "id": "b439ba9f-a397-4a9d-a34a-c871b492bcd5",
   "metadata": {},
   "outputs": [],
   "source": [
    "pep = morpc.extract_vintage(pep, vintagePeriodField=\"VINTAGE\", refPeriodField=\"YEAR\")"
   ]
  },
  {
   "cell_type": "markdown",
   "id": "58d631cf-fd38-4113-baea-47f5ab1b04df",
   "metadata": {},
   "source": [
    "The remaining records should include only a single vintage for each reference year."
   ]
  },
  {
   "cell_type": "code",
   "execution_count": 499,
   "id": "ba1ec65d-dad4-4b0c-a7ed-13f23ec81d6c",
   "metadata": {},
   "outputs": [
    {
     "name": "stdout",
     "output_type": "stream",
     "text": [
      "2010: [np.int64(2020)]\n",
      "2011: [np.int64(2020)]\n",
      "2012: [np.int64(2020)]\n",
      "2013: [np.int64(2020)]\n",
      "2014: [np.int64(2020)]\n",
      "2015: [np.int64(2020)]\n",
      "2016: [np.int64(2020)]\n",
      "2017: [np.int64(2020)]\n",
      "2018: [np.int64(2020)]\n",
      "2019: [np.int64(2020)]\n",
      "2020: [np.int64(2023)]\n",
      "2021: [np.int64(2023)]\n",
      "2022: [np.int64(2023)]\n",
      "2023: [np.int64(2023)]\n"
     ]
    }
   ],
   "source": [
    "for year in pep[\"YEAR\"].unique():\n",
    "    vintages = list(pep.loc[pep[\"YEAR\"] == year, \"VINTAGE\"].unique())\n",
    "    print(\"{}: {}\".format(year, vintages))"
   ]
  },
  {
   "cell_type": "markdown",
   "id": "48fe6402-75f6-4fce-ad9b-bcfcb4d36b3d",
   "metadata": {},
   "source": [
    "The data includes totals by sex but no totals by age group. Drop the totals.  We'll recompute the ones we need."
   ]
  },
  {
   "cell_type": "code",
   "execution_count": 500,
   "id": "4f8bf492-f64a-4be0-af06-135071c39715",
   "metadata": {},
   "outputs": [
    {
     "name": "stdout",
     "output_type": "stream",
     "text": [
      "SEX: ['F', 'M', 'TOT']\n",
      "RACE: ['AA', 'BA', 'HAA', 'HBA', 'HIA', 'HNA', 'HTOM', 'HWA', 'IA', <NA>, 'NHAA', 'NHBA', 'NHIA', 'NHNA', 'NHTOM', 'NHWA', 'TOM', 'TOT', 'WA']\n",
      "AGEGROUP: ['0 to 4', '10 to 14', '15 to 19', '20 to 24', '25 to 29', '30 to 34', '35 to 39', '40 to 44', '45 to 49', '5 to 9', '50 to 54', '55 to 59', '60 to 64', '65 to 69', '70 to 74', '75 to 79', '80 to 84', '85+']\n"
     ]
    }
   ],
   "source": [
    "for var in [\"SEX\",\"RACE\",\"AGEGROUP\"]:\n",
    "    print(\"{}: {}\".format(var, list(pep[var].unique())))"
   ]
  },
  {
   "cell_type": "markdown",
   "id": "2214b4ac-90e1-4264-b01b-5192287bbf78",
   "metadata": {},
   "source": [
    "Extract the totals records for sex."
   ]
  },
  {
   "cell_type": "code",
   "execution_count": 501,
   "id": "b55106d6-575b-428e-8c0f-dc76baf8f51a",
   "metadata": {},
   "outputs": [],
   "source": [
    "pep = pep.loc[(pep[\"SEX\"] != \"TOT\") & (pep[\"RACE\"] != \"TOT\")]"
   ]
  },
  {
   "cell_type": "markdown",
   "id": "d9bcbfe9-f11a-4aec-88af-6b6737f424a9",
   "metadata": {},
   "source": [
    "Verify that the totals have been removed."
   ]
  },
  {
   "cell_type": "code",
   "execution_count": 502,
   "id": "0544305d-4089-48ad-89a2-a5d0afedefd4",
   "metadata": {},
   "outputs": [
    {
     "name": "stdout",
     "output_type": "stream",
     "text": [
      "SEX: ['F', 'M']\n",
      "RACE: ['AA', 'BA', 'HAA', 'HBA', 'HIA', 'HNA', 'HTOM', 'HWA', 'IA', 'NHAA', 'NHBA', 'NHIA', 'NHNA', 'NHTOM', 'NHWA', 'TOM', 'WA']\n",
      "AGEGROUP: ['0 to 4', '10 to 14', '15 to 19', '20 to 24', '25 to 29', '30 to 34', '35 to 39', '40 to 44', '45 to 49', '5 to 9', '50 to 54', '55 to 59', '60 to 64', '65 to 69', '70 to 74', '75 to 79', '80 to 84', '85+']\n"
     ]
    }
   ],
   "source": [
    "for var in [\"SEX\",\"RACE\",\"AGEGROUP\"]:\n",
    "    print(\"{}: {}\".format(var, list(pep[var].unique())))"
   ]
  },
  {
   "cell_type": "markdown",
   "id": "648dfc37-7107-4727-ac94-8ba7e0244951",
   "metadata": {},
   "source": [
    "Compute totals by race."
   ]
  },
  {
   "cell_type": "code",
   "execution_count": 503,
   "id": "a8c36b6e-51ff-462d-ace6-d59cfa607918",
   "metadata": {},
   "outputs": [],
   "source": [
    "pep = pep.drop(columns=[\"SEX\",\"AGEGROUP\"]).groupby([\"GEOID\",\"COUNTY\",\"YEAR\",\"VINTAGE\",\"SOURCE\",\"RACE\"]).sum().reset_index()"
   ]
  },
  {
   "cell_type": "markdown",
   "id": "d711c251-df60-4223-8048-8f88febeadd0",
   "metadata": {},
   "source": [
    "Add the fully-qualified GEOIDs and SUMLEVELS for the geographies."
   ]
  },
  {
   "cell_type": "code",
   "execution_count": 504,
   "id": "c118e198-c11d-4fd5-b686-eff1ccba0270",
   "metadata": {},
   "outputs": [],
   "source": [
    "pep[\"SUMLEVEL\"] = morpc.SUMLEVEL_LOOKUP[\"COUNTY\"]\n",
    "pep[\"GEOIDFQ\"] = pep[\"SUMLEVEL\"] + \"0000US\" + pep[\"GEOID\"]"
   ]
  },
  {
   "cell_type": "markdown",
   "id": "03fa98a5-4240-4da0-a8d9-0fffdbacf1d1",
   "metadata": {},
   "source": [
    "Retain only the fields that we require."
   ]
  },
  {
   "cell_type": "code",
   "execution_count": 505,
   "id": "56dac180-7c11-41a3-bb64-563f4f6f1975",
   "metadata": {},
   "outputs": [],
   "source": [
    "pep = pep.filter(items=[\"GEOIDFQ\",\"SUMLEVEL\",\"COUNTY\",\"YEAR\",\"RACE\",\"POP\"], axis=\"columns\")"
   ]
  },
  {
   "cell_type": "markdown",
   "id": "f3b64785-98c0-4437-bd40-c4b9d9f9d8e6",
   "metadata": {},
   "source": [
    "Inspect the data."
   ]
  },
  {
   "cell_type": "code",
   "execution_count": 506,
   "id": "5758c4f3-62c9-4305-b5f0-e3ae0584e4ba",
   "metadata": {},
   "outputs": [
    {
     "data": {
      "text/html": [
       "<div>\n",
       "<style scoped>\n",
       "    .dataframe tbody tr th:only-of-type {\n",
       "        vertical-align: middle;\n",
       "    }\n",
       "\n",
       "    .dataframe tbody tr th {\n",
       "        vertical-align: top;\n",
       "    }\n",
       "\n",
       "    .dataframe thead th {\n",
       "        text-align: right;\n",
       "    }\n",
       "</style>\n",
       "<table border=\"1\" class=\"dataframe\">\n",
       "  <thead>\n",
       "    <tr style=\"text-align: right;\">\n",
       "      <th></th>\n",
       "      <th>GEOIDFQ</th>\n",
       "      <th>SUMLEVEL</th>\n",
       "      <th>COUNTY</th>\n",
       "      <th>YEAR</th>\n",
       "      <th>RACE</th>\n",
       "      <th>POP</th>\n",
       "    </tr>\n",
       "  </thead>\n",
       "  <tbody>\n",
       "    <tr>\n",
       "      <th>0</th>\n",
       "      <td>0500000US39041</td>\n",
       "      <td>050</td>\n",
       "      <td>Delaware</td>\n",
       "      <td>2010</td>\n",
       "      <td>AA</td>\n",
       "      <td>7741</td>\n",
       "    </tr>\n",
       "    <tr>\n",
       "      <th>1</th>\n",
       "      <td>0500000US39041</td>\n",
       "      <td>050</td>\n",
       "      <td>Delaware</td>\n",
       "      <td>2010</td>\n",
       "      <td>BA</td>\n",
       "      <td>5964</td>\n",
       "    </tr>\n",
       "    <tr>\n",
       "      <th>2</th>\n",
       "      <td>0500000US39041</td>\n",
       "      <td>050</td>\n",
       "      <td>Delaware</td>\n",
       "      <td>2010</td>\n",
       "      <td>HAA</td>\n",
       "      <td>59</td>\n",
       "    </tr>\n",
       "    <tr>\n",
       "      <th>3</th>\n",
       "      <td>0500000US39041</td>\n",
       "      <td>050</td>\n",
       "      <td>Delaware</td>\n",
       "      <td>2010</td>\n",
       "      <td>HBA</td>\n",
       "      <td>101</td>\n",
       "    </tr>\n",
       "    <tr>\n",
       "      <th>4</th>\n",
       "      <td>0500000US39041</td>\n",
       "      <td>050</td>\n",
       "      <td>Delaware</td>\n",
       "      <td>2010</td>\n",
       "      <td>HIA</td>\n",
       "      <td>89</td>\n",
       "    </tr>\n",
       "  </tbody>\n",
       "</table>\n",
       "</div>"
      ],
      "text/plain": [
       "          GEOIDFQ SUMLEVEL    COUNTY  YEAR RACE   POP\n",
       "0  0500000US39041      050  Delaware  2010   AA  7741\n",
       "1  0500000US39041      050  Delaware  2010   BA  5964\n",
       "2  0500000US39041      050  Delaware  2010  HAA    59\n",
       "3  0500000US39041      050  Delaware  2010  HBA   101\n",
       "4  0500000US39041      050  Delaware  2010  HIA    89"
      ]
     },
     "execution_count": 506,
     "metadata": {},
     "output_type": "execute_result"
    }
   ],
   "source": [
    "pep.head()"
   ]
  },
  {
   "cell_type": "markdown",
   "id": "ef8b7988-d5b8-4a6e-85c1-aac1e3f1546e",
   "metadata": {},
   "source": [
    "### Compute totals for 15-County Region"
   ]
  },
  {
   "cell_type": "markdown",
   "id": "8e8be7fe-bf6b-41af-9365-dfa724451142",
   "metadata": {},
   "source": [
    "Sum the population for each sex/race/age group combination for all of the counties to obtain the totals for the 15-county region."
   ]
  },
  {
   "cell_type": "code",
   "execution_count": 507,
   "id": "98312889-eddf-49cc-8791-cff1090ed54f",
   "metadata": {},
   "outputs": [],
   "source": [
    "temp = pep.groupby(['RACE','YEAR'])['POP'].sum().reset_index()"
   ]
  },
  {
   "cell_type": "markdown",
   "id": "d690bd59-9177-410d-a95f-533f70a9bb3f",
   "metadata": {},
   "source": [
    "Add identifier values for the 15-county summary data."
   ]
  },
  {
   "cell_type": "code",
   "execution_count": 508,
   "id": "97bba0ea-9862-4511-ab1d-25a968131a7d",
   "metadata": {},
   "outputs": [],
   "source": [
    "temp[\"COUNTY\"] = '15-County Region'\n",
    "temp[\"GEOIDFQ\"] = 'M010000US001'\n",
    "temp[\"SUMLEVEL\"] = 'M01'"
   ]
  },
  {
   "cell_type": "markdown",
   "id": "9a61d3ec-78ea-40b3-a22a-f4cc82ef2b05",
   "metadata": {},
   "source": [
    "Append the 15-county summary data to the county data."
   ]
  },
  {
   "cell_type": "code",
   "execution_count": 509,
   "id": "0f979b4a-0d03-4f39-85d2-827b550769a0",
   "metadata": {},
   "outputs": [],
   "source": [
    "pep = pd.concat([pep, temp], axis=\"index\")"
   ]
  },
  {
   "cell_type": "markdown",
   "id": "139f8f74-52f8-4db7-97b6-de4380464aba",
   "metadata": {},
   "source": [
    "Inspect the data."
   ]
  },
  {
   "cell_type": "code",
   "execution_count": 510,
   "id": "cdb261ff-a268-4742-98d2-0a101b4fc3bf",
   "metadata": {},
   "outputs": [
    {
     "data": {
      "text/html": [
       "<div>\n",
       "<style scoped>\n",
       "    .dataframe tbody tr th:only-of-type {\n",
       "        vertical-align: middle;\n",
       "    }\n",
       "\n",
       "    .dataframe tbody tr th {\n",
       "        vertical-align: top;\n",
       "    }\n",
       "\n",
       "    .dataframe thead th {\n",
       "        text-align: right;\n",
       "    }\n",
       "</style>\n",
       "<table border=\"1\" class=\"dataframe\">\n",
       "  <thead>\n",
       "    <tr style=\"text-align: right;\">\n",
       "      <th></th>\n",
       "      <th>GEOIDFQ</th>\n",
       "      <th>SUMLEVEL</th>\n",
       "      <th>COUNTY</th>\n",
       "      <th>YEAR</th>\n",
       "      <th>RACE</th>\n",
       "      <th>POP</th>\n",
       "    </tr>\n",
       "  </thead>\n",
       "  <tbody>\n",
       "    <tr>\n",
       "      <th>0</th>\n",
       "      <td>0500000US39041</td>\n",
       "      <td>050</td>\n",
       "      <td>Delaware</td>\n",
       "      <td>2010</td>\n",
       "      <td>AA</td>\n",
       "      <td>7741</td>\n",
       "    </tr>\n",
       "    <tr>\n",
       "      <th>1</th>\n",
       "      <td>0500000US39041</td>\n",
       "      <td>050</td>\n",
       "      <td>Delaware</td>\n",
       "      <td>2010</td>\n",
       "      <td>BA</td>\n",
       "      <td>5964</td>\n",
       "    </tr>\n",
       "    <tr>\n",
       "      <th>2</th>\n",
       "      <td>0500000US39041</td>\n",
       "      <td>050</td>\n",
       "      <td>Delaware</td>\n",
       "      <td>2010</td>\n",
       "      <td>HAA</td>\n",
       "      <td>59</td>\n",
       "    </tr>\n",
       "    <tr>\n",
       "      <th>3</th>\n",
       "      <td>0500000US39041</td>\n",
       "      <td>050</td>\n",
       "      <td>Delaware</td>\n",
       "      <td>2010</td>\n",
       "      <td>HBA</td>\n",
       "      <td>101</td>\n",
       "    </tr>\n",
       "    <tr>\n",
       "      <th>4</th>\n",
       "      <td>0500000US39041</td>\n",
       "      <td>050</td>\n",
       "      <td>Delaware</td>\n",
       "      <td>2010</td>\n",
       "      <td>HIA</td>\n",
       "      <td>89</td>\n",
       "    </tr>\n",
       "    <tr>\n",
       "      <th>...</th>\n",
       "      <td>...</td>\n",
       "      <td>...</td>\n",
       "      <td>...</td>\n",
       "      <td>...</td>\n",
       "      <td>...</td>\n",
       "      <td>...</td>\n",
       "    </tr>\n",
       "    <tr>\n",
       "      <th>233</th>\n",
       "      <td>M010000US001</td>\n",
       "      <td>M01</td>\n",
       "      <td>15-County Region</td>\n",
       "      <td>2019</td>\n",
       "      <td>WA</td>\n",
       "      <td>1857577</td>\n",
       "    </tr>\n",
       "    <tr>\n",
       "      <th>234</th>\n",
       "      <td>M010000US001</td>\n",
       "      <td>M01</td>\n",
       "      <td>15-County Region</td>\n",
       "      <td>2020</td>\n",
       "      <td>WA</td>\n",
       "      <td>1864776</td>\n",
       "    </tr>\n",
       "    <tr>\n",
       "      <th>235</th>\n",
       "      <td>M010000US001</td>\n",
       "      <td>M01</td>\n",
       "      <td>15-County Region</td>\n",
       "      <td>2021</td>\n",
       "      <td>WA</td>\n",
       "      <td>1857247</td>\n",
       "    </tr>\n",
       "    <tr>\n",
       "      <th>236</th>\n",
       "      <td>M010000US001</td>\n",
       "      <td>M01</td>\n",
       "      <td>15-County Region</td>\n",
       "      <td>2022</td>\n",
       "      <td>WA</td>\n",
       "      <td>1856850</td>\n",
       "    </tr>\n",
       "    <tr>\n",
       "      <th>237</th>\n",
       "      <td>M010000US001</td>\n",
       "      <td>M01</td>\n",
       "      <td>15-County Region</td>\n",
       "      <td>2023</td>\n",
       "      <td>WA</td>\n",
       "      <td>1859094</td>\n",
       "    </tr>\n",
       "  </tbody>\n",
       "</table>\n",
       "<p>3808 rows × 6 columns</p>\n",
       "</div>"
      ],
      "text/plain": [
       "            GEOIDFQ SUMLEVEL            COUNTY  YEAR RACE      POP\n",
       "0    0500000US39041      050          Delaware  2010   AA     7741\n",
       "1    0500000US39041      050          Delaware  2010   BA     5964\n",
       "2    0500000US39041      050          Delaware  2010  HAA       59\n",
       "3    0500000US39041      050          Delaware  2010  HBA      101\n",
       "4    0500000US39041      050          Delaware  2010  HIA       89\n",
       "..              ...      ...               ...   ...  ...      ...\n",
       "233    M010000US001      M01  15-County Region  2019   WA  1857577\n",
       "234    M010000US001      M01  15-County Region  2020   WA  1864776\n",
       "235    M010000US001      M01  15-County Region  2021   WA  1857247\n",
       "236    M010000US001      M01  15-County Region  2022   WA  1856850\n",
       "237    M010000US001      M01  15-County Region  2023   WA  1859094\n",
       "\n",
       "[3808 rows x 6 columns]"
      ]
     },
     "execution_count": 510,
     "metadata": {},
     "output_type": "execute_result"
    }
   ],
   "source": [
    "pep"
   ]
  },
  {
   "cell_type": "markdown",
   "id": "e7c81da3-bf2a-4e7b-8c0e-f4e595b136ae",
   "metadata": {},
   "source": [
    "### Pivot to semi-wide format"
   ]
  },
  {
   "cell_type": "code",
   "execution_count": 511,
   "id": "322a916d-5e7e-46ab-80be-9646e34dfcb9",
   "metadata": {},
   "outputs": [
    {
     "data": {
      "text/html": [
       "<div>\n",
       "<style scoped>\n",
       "    .dataframe tbody tr th:only-of-type {\n",
       "        vertical-align: middle;\n",
       "    }\n",
       "\n",
       "    .dataframe tbody tr th {\n",
       "        vertical-align: top;\n",
       "    }\n",
       "\n",
       "    .dataframe thead th {\n",
       "        text-align: right;\n",
       "    }\n",
       "</style>\n",
       "<table border=\"1\" class=\"dataframe\">\n",
       "  <thead>\n",
       "    <tr style=\"text-align: right;\">\n",
       "      <th></th>\n",
       "      <th></th>\n",
       "      <th></th>\n",
       "      <th>RACE</th>\n",
       "      <th>AA</th>\n",
       "      <th>BA</th>\n",
       "      <th>HAA</th>\n",
       "      <th>HBA</th>\n",
       "      <th>HIA</th>\n",
       "      <th>HNA</th>\n",
       "      <th>HTOM</th>\n",
       "      <th>HWA</th>\n",
       "      <th>IA</th>\n",
       "      <th>NHAA</th>\n",
       "      <th>NHBA</th>\n",
       "      <th>NHIA</th>\n",
       "      <th>NHNA</th>\n",
       "      <th>NHTOM</th>\n",
       "      <th>NHWA</th>\n",
       "      <th>TOM</th>\n",
       "      <th>WA</th>\n",
       "    </tr>\n",
       "    <tr>\n",
       "      <th>GEOIDFQ</th>\n",
       "      <th>SUMLEVEL</th>\n",
       "      <th>COUNTY</th>\n",
       "      <th>YEAR</th>\n",
       "      <th></th>\n",
       "      <th></th>\n",
       "      <th></th>\n",
       "      <th></th>\n",
       "      <th></th>\n",
       "      <th></th>\n",
       "      <th></th>\n",
       "      <th></th>\n",
       "      <th></th>\n",
       "      <th></th>\n",
       "      <th></th>\n",
       "      <th></th>\n",
       "      <th></th>\n",
       "      <th></th>\n",
       "      <th></th>\n",
       "      <th></th>\n",
       "      <th></th>\n",
       "    </tr>\n",
       "  </thead>\n",
       "  <tbody>\n",
       "    <tr>\n",
       "      <th rowspan=\"5\" valign=\"top\">0500000US39041</th>\n",
       "      <th rowspan=\"5\" valign=\"top\">050</th>\n",
       "      <th rowspan=\"5\" valign=\"top\">Delaware</th>\n",
       "      <th>2010</th>\n",
       "      <td>7741</td>\n",
       "      <td>5964</td>\n",
       "      <td>59</td>\n",
       "      <td>101</td>\n",
       "      <td>89</td>\n",
       "      <td>11</td>\n",
       "      <td>156</td>\n",
       "      <td>3289</td>\n",
       "      <td>309</td>\n",
       "      <td>7682</td>\n",
       "      <td>5863</td>\n",
       "      <td>220</td>\n",
       "      <td>50</td>\n",
       "      <td>2760</td>\n",
       "      <td>154834</td>\n",
       "      <td>2916</td>\n",
       "      <td>158123</td>\n",
       "    </tr>\n",
       "    <tr>\n",
       "      <th>2011</th>\n",
       "      <td>8299</td>\n",
       "      <td>6126</td>\n",
       "      <td>66</td>\n",
       "      <td>125</td>\n",
       "      <td>93</td>\n",
       "      <td>14</td>\n",
       "      <td>177</td>\n",
       "      <td>3417</td>\n",
       "      <td>326</td>\n",
       "      <td>8233</td>\n",
       "      <td>6001</td>\n",
       "      <td>233</td>\n",
       "      <td>58</td>\n",
       "      <td>2896</td>\n",
       "      <td>157271</td>\n",
       "      <td>3073</td>\n",
       "      <td>160688</td>\n",
       "    </tr>\n",
       "    <tr>\n",
       "      <th>2012</th>\n",
       "      <td>8695</td>\n",
       "      <td>6186</td>\n",
       "      <td>74</td>\n",
       "      <td>138</td>\n",
       "      <td>108</td>\n",
       "      <td>14</td>\n",
       "      <td>174</td>\n",
       "      <td>3623</td>\n",
       "      <td>354</td>\n",
       "      <td>8621</td>\n",
       "      <td>6048</td>\n",
       "      <td>246</td>\n",
       "      <td>58</td>\n",
       "      <td>3028</td>\n",
       "      <td>159102</td>\n",
       "      <td>3202</td>\n",
       "      <td>162725</td>\n",
       "    </tr>\n",
       "    <tr>\n",
       "      <th>2013</th>\n",
       "      <td>9463</td>\n",
       "      <td>6348</td>\n",
       "      <td>76</td>\n",
       "      <td>162</td>\n",
       "      <td>110</td>\n",
       "      <td>19</td>\n",
       "      <td>193</td>\n",
       "      <td>3770</td>\n",
       "      <td>381</td>\n",
       "      <td>9387</td>\n",
       "      <td>6186</td>\n",
       "      <td>271</td>\n",
       "      <td>64</td>\n",
       "      <td>3199</td>\n",
       "      <td>162108</td>\n",
       "      <td>3392</td>\n",
       "      <td>165878</td>\n",
       "    </tr>\n",
       "    <tr>\n",
       "      <th>2014</th>\n",
       "      <td>10348</td>\n",
       "      <td>6473</td>\n",
       "      <td>80</td>\n",
       "      <td>176</td>\n",
       "      <td>99</td>\n",
       "      <td>16</td>\n",
       "      <td>200</td>\n",
       "      <td>3960</td>\n",
       "      <td>380</td>\n",
       "      <td>10268</td>\n",
       "      <td>6297</td>\n",
       "      <td>281</td>\n",
       "      <td>65</td>\n",
       "      <td>3354</td>\n",
       "      <td>164853</td>\n",
       "      <td>3554</td>\n",
       "      <td>168813</td>\n",
       "    </tr>\n",
       "  </tbody>\n",
       "</table>\n",
       "</div>"
      ],
      "text/plain": [
       "RACE                                      AA    BA  HAA  HBA  HIA  HNA  HTOM  \\\n",
       "GEOIDFQ        SUMLEVEL COUNTY   YEAR                                          \n",
       "0500000US39041 050      Delaware 2010   7741  5964   59  101   89   11   156   \n",
       "                                 2011   8299  6126   66  125   93   14   177   \n",
       "                                 2012   8695  6186   74  138  108   14   174   \n",
       "                                 2013   9463  6348   76  162  110   19   193   \n",
       "                                 2014  10348  6473   80  176   99   16   200   \n",
       "\n",
       "RACE                                    HWA   IA   NHAA  NHBA  NHIA  NHNA  \\\n",
       "GEOIDFQ        SUMLEVEL COUNTY   YEAR                                       \n",
       "0500000US39041 050      Delaware 2010  3289  309   7682  5863   220    50   \n",
       "                                 2011  3417  326   8233  6001   233    58   \n",
       "                                 2012  3623  354   8621  6048   246    58   \n",
       "                                 2013  3770  381   9387  6186   271    64   \n",
       "                                 2014  3960  380  10268  6297   281    65   \n",
       "\n",
       "RACE                                   NHTOM    NHWA   TOM      WA  \n",
       "GEOIDFQ        SUMLEVEL COUNTY   YEAR                               \n",
       "0500000US39041 050      Delaware 2010   2760  154834  2916  158123  \n",
       "                                 2011   2896  157271  3073  160688  \n",
       "                                 2012   3028  159102  3202  162725  \n",
       "                                 2013   3199  162108  3392  165878  \n",
       "                                 2014   3354  164853  3554  168813  "
      ]
     },
     "execution_count": 511,
     "metadata": {},
     "output_type": "execute_result"
    }
   ],
   "source": [
    "pep = pep.pivot(index=[\"GEOIDFQ\",\"SUMLEVEL\",\"COUNTY\",\"YEAR\"], columns=\"RACE\", values=\"POP\")\n",
    "pep.head()"
   ]
  },
  {
   "cell_type": "markdown",
   "id": "680e7346-c74f-48e0-9e8f-b646f56ea112",
   "metadata": {},
   "source": [
    "### Combine the race categories"
   ]
  },
  {
   "cell_type": "markdown",
   "id": "89543dfc-433c-435a-9a85-7ff255cd9422",
   "metadata": {},
   "source": [
    "The data includes many race categories. This is too many to plot, so we'll combine some."
   ]
  },
  {
   "cell_type": "code",
   "execution_count": 512,
   "id": "bd15818c-cada-4a6c-87dd-07f61ce0e5ad",
   "metadata": {},
   "outputs": [
    {
     "name": "stdout",
     "output_type": "stream",
     "text": [
      "Creating category 'White' by combining races NHWA\n",
      "Creating category 'Asian' by combining races NHAA\n",
      "Creating category 'Black or African American' by combining races NHBA\n",
      "Creating category 'Some other race' by combining races NHIA,NHNA\n",
      "Creating category 'Two or more races' by combining races NHTOM\n",
      "Creating category 'Hispanic or Latino (any races)' by combining races HAA,HBA,HIA,HNA,HTOM,HWA\n"
     ]
    }
   ],
   "source": [
    "temp = pep.copy()\n",
    "for combo,races in RACE_MAP.items():\n",
    "    print(\"Creating category '{}' by combining races {}\".format(combo, \",\".join(races)))\n",
    "    pep[combo] = temp[races].sum(axis=\"columns\").astype(\"int\")"
   ]
  },
  {
   "cell_type": "markdown",
   "id": "2eb87bab-b7a9-4559-9527-8259890ddc66",
   "metadata": {},
   "source": [
    "Extract only the combined race columns and reset the index."
   ]
  },
  {
   "cell_type": "code",
   "execution_count": 513,
   "id": "24c6bf93-81f6-42fb-9918-697109cdd1a0",
   "metadata": {},
   "outputs": [],
   "source": [
    "pep = pep.filter(items=RACE_MAP.keys(), axis=\"columns\").reset_index()"
   ]
  },
  {
   "cell_type": "markdown",
   "id": "5f53ff4f-9131-4a63-b39f-b0602e6e7e1a",
   "metadata": {},
   "source": [
    "Inspect the data."
   ]
  },
  {
   "cell_type": "code",
   "execution_count": 514,
   "id": "06b06e60-5777-4a55-9e32-9cfcae6f5ea1",
   "metadata": {},
   "outputs": [
    {
     "data": {
      "text/html": [
       "<div>\n",
       "<style scoped>\n",
       "    .dataframe tbody tr th:only-of-type {\n",
       "        vertical-align: middle;\n",
       "    }\n",
       "\n",
       "    .dataframe tbody tr th {\n",
       "        vertical-align: top;\n",
       "    }\n",
       "\n",
       "    .dataframe thead th {\n",
       "        text-align: right;\n",
       "    }\n",
       "</style>\n",
       "<table border=\"1\" class=\"dataframe\">\n",
       "  <thead>\n",
       "    <tr style=\"text-align: right;\">\n",
       "      <th></th>\n",
       "      <th>GEOIDFQ</th>\n",
       "      <th>SUMLEVEL</th>\n",
       "      <th>COUNTY</th>\n",
       "      <th>YEAR</th>\n",
       "      <th>White</th>\n",
       "      <th>Asian</th>\n",
       "      <th>Black or African American</th>\n",
       "      <th>Some other race</th>\n",
       "      <th>Two or more races</th>\n",
       "      <th>Hispanic or Latino (any races)</th>\n",
       "    </tr>\n",
       "  </thead>\n",
       "  <tbody>\n",
       "    <tr>\n",
       "      <th>0</th>\n",
       "      <td>0500000US39041</td>\n",
       "      <td>050</td>\n",
       "      <td>Delaware</td>\n",
       "      <td>2010</td>\n",
       "      <td>154834</td>\n",
       "      <td>7682</td>\n",
       "      <td>5863</td>\n",
       "      <td>270</td>\n",
       "      <td>2760</td>\n",
       "      <td>3705</td>\n",
       "    </tr>\n",
       "    <tr>\n",
       "      <th>1</th>\n",
       "      <td>0500000US39041</td>\n",
       "      <td>050</td>\n",
       "      <td>Delaware</td>\n",
       "      <td>2011</td>\n",
       "      <td>157271</td>\n",
       "      <td>8233</td>\n",
       "      <td>6001</td>\n",
       "      <td>291</td>\n",
       "      <td>2896</td>\n",
       "      <td>3892</td>\n",
       "    </tr>\n",
       "    <tr>\n",
       "      <th>2</th>\n",
       "      <td>0500000US39041</td>\n",
       "      <td>050</td>\n",
       "      <td>Delaware</td>\n",
       "      <td>2012</td>\n",
       "      <td>159102</td>\n",
       "      <td>8621</td>\n",
       "      <td>6048</td>\n",
       "      <td>304</td>\n",
       "      <td>3028</td>\n",
       "      <td>4131</td>\n",
       "    </tr>\n",
       "    <tr>\n",
       "      <th>3</th>\n",
       "      <td>0500000US39041</td>\n",
       "      <td>050</td>\n",
       "      <td>Delaware</td>\n",
       "      <td>2013</td>\n",
       "      <td>162108</td>\n",
       "      <td>9387</td>\n",
       "      <td>6186</td>\n",
       "      <td>335</td>\n",
       "      <td>3199</td>\n",
       "      <td>4330</td>\n",
       "    </tr>\n",
       "    <tr>\n",
       "      <th>4</th>\n",
       "      <td>0500000US39041</td>\n",
       "      <td>050</td>\n",
       "      <td>Delaware</td>\n",
       "      <td>2014</td>\n",
       "      <td>164853</td>\n",
       "      <td>10268</td>\n",
       "      <td>6297</td>\n",
       "      <td>346</td>\n",
       "      <td>3354</td>\n",
       "      <td>4531</td>\n",
       "    </tr>\n",
       "  </tbody>\n",
       "</table>\n",
       "</div>"
      ],
      "text/plain": [
       "          GEOIDFQ SUMLEVEL    COUNTY  YEAR   White  Asian  \\\n",
       "0  0500000US39041      050  Delaware  2010  154834   7682   \n",
       "1  0500000US39041      050  Delaware  2011  157271   8233   \n",
       "2  0500000US39041      050  Delaware  2012  159102   8621   \n",
       "3  0500000US39041      050  Delaware  2013  162108   9387   \n",
       "4  0500000US39041      050  Delaware  2014  164853  10268   \n",
       "\n",
       "   Black or African American  Some other race  Two or more races  \\\n",
       "0                       5863              270               2760   \n",
       "1                       6001              291               2896   \n",
       "2                       6048              304               3028   \n",
       "3                       6186              335               3199   \n",
       "4                       6297              346               3354   \n",
       "\n",
       "   Hispanic or Latino (any races)  \n",
       "0                            3705  \n",
       "1                            3892  \n",
       "2                            4131  \n",
       "3                            4330  \n",
       "4                            4531  "
      ]
     },
     "execution_count": 514,
     "metadata": {},
     "output_type": "execute_result"
    }
   ],
   "source": [
    "pep.head()"
   ]
  },
  {
   "cell_type": "markdown",
   "id": "f5f09ae3-ba1f-47d1-afc3-24e2f719ec19",
   "metadata": {},
   "source": [
    "### Compute proportions"
   ]
  },
  {
   "cell_type": "code",
   "execution_count": 515,
   "id": "d8711dc8-021d-4eda-8cf7-b0e25ee1beb0",
   "metadata": {},
   "outputs": [
    {
     "name": "stdout",
     "output_type": "stream",
     "text": [
      "Computing proportion for race White\n",
      "Computing proportion for race Asian\n",
      "Computing proportion for race Black or African American\n",
      "Computing proportion for race Some other race\n",
      "Computing proportion for race Two or more races\n",
      "Computing proportion for race Hispanic or Latino (any races)\n"
     ]
    }
   ],
   "source": [
    "for race in RACE_MAP.keys():\n",
    "    print(\"Computing proportion for race {}\".format(race))\n",
    "    pep[\"{} proportion\".format(race)] = pep[race] / pep[RACE_MAP.keys()].sum(axis=\"columns\")"
   ]
  },
  {
   "cell_type": "code",
   "execution_count": 516,
   "id": "6ca777e5-082c-426d-b4de-d6d26cd77a28",
   "metadata": {},
   "outputs": [
    {
     "data": {
      "text/html": [
       "<div>\n",
       "<style scoped>\n",
       "    .dataframe tbody tr th:only-of-type {\n",
       "        vertical-align: middle;\n",
       "    }\n",
       "\n",
       "    .dataframe tbody tr th {\n",
       "        vertical-align: top;\n",
       "    }\n",
       "\n",
       "    .dataframe thead th {\n",
       "        text-align: right;\n",
       "    }\n",
       "</style>\n",
       "<table border=\"1\" class=\"dataframe\">\n",
       "  <thead>\n",
       "    <tr style=\"text-align: right;\">\n",
       "      <th></th>\n",
       "      <th>GEOIDFQ</th>\n",
       "      <th>SUMLEVEL</th>\n",
       "      <th>COUNTY</th>\n",
       "      <th>YEAR</th>\n",
       "      <th>White</th>\n",
       "      <th>Asian</th>\n",
       "      <th>Black or African American</th>\n",
       "      <th>Some other race</th>\n",
       "      <th>Two or more races</th>\n",
       "      <th>Hispanic or Latino (any races)</th>\n",
       "      <th>White proportion</th>\n",
       "      <th>Asian proportion</th>\n",
       "      <th>Black or African American proportion</th>\n",
       "      <th>Some other race proportion</th>\n",
       "      <th>Two or more races proportion</th>\n",
       "      <th>Hispanic or Latino (any races) proportion</th>\n",
       "    </tr>\n",
       "  </thead>\n",
       "  <tbody>\n",
       "    <tr>\n",
       "      <th>0</th>\n",
       "      <td>0500000US39041</td>\n",
       "      <td>050</td>\n",
       "      <td>Delaware</td>\n",
       "      <td>2010</td>\n",
       "      <td>154834</td>\n",
       "      <td>7682</td>\n",
       "      <td>5863</td>\n",
       "      <td>270</td>\n",
       "      <td>2760</td>\n",
       "      <td>3705</td>\n",
       "      <td>0.884190</td>\n",
       "      <td>0.043869</td>\n",
       "      <td>0.033481</td>\n",
       "      <td>0.001542</td>\n",
       "      <td>0.015761</td>\n",
       "      <td>0.021158</td>\n",
       "    </tr>\n",
       "    <tr>\n",
       "      <th>1</th>\n",
       "      <td>0500000US39041</td>\n",
       "      <td>050</td>\n",
       "      <td>Delaware</td>\n",
       "      <td>2011</td>\n",
       "      <td>157271</td>\n",
       "      <td>8233</td>\n",
       "      <td>6001</td>\n",
       "      <td>291</td>\n",
       "      <td>2896</td>\n",
       "      <td>3892</td>\n",
       "      <td>0.880656</td>\n",
       "      <td>0.046102</td>\n",
       "      <td>0.033603</td>\n",
       "      <td>0.001629</td>\n",
       "      <td>0.016216</td>\n",
       "      <td>0.021794</td>\n",
       "    </tr>\n",
       "    <tr>\n",
       "      <th>2</th>\n",
       "      <td>0500000US39041</td>\n",
       "      <td>050</td>\n",
       "      <td>Delaware</td>\n",
       "      <td>2012</td>\n",
       "      <td>159102</td>\n",
       "      <td>8621</td>\n",
       "      <td>6048</td>\n",
       "      <td>304</td>\n",
       "      <td>3028</td>\n",
       "      <td>4131</td>\n",
       "      <td>0.877882</td>\n",
       "      <td>0.047568</td>\n",
       "      <td>0.033371</td>\n",
       "      <td>0.001677</td>\n",
       "      <td>0.016708</td>\n",
       "      <td>0.022794</td>\n",
       "    </tr>\n",
       "    <tr>\n",
       "      <th>3</th>\n",
       "      <td>0500000US39041</td>\n",
       "      <td>050</td>\n",
       "      <td>Delaware</td>\n",
       "      <td>2013</td>\n",
       "      <td>162108</td>\n",
       "      <td>9387</td>\n",
       "      <td>6186</td>\n",
       "      <td>335</td>\n",
       "      <td>3199</td>\n",
       "      <td>4330</td>\n",
       "      <td>0.873686</td>\n",
       "      <td>0.050592</td>\n",
       "      <td>0.033340</td>\n",
       "      <td>0.001805</td>\n",
       "      <td>0.017241</td>\n",
       "      <td>0.023337</td>\n",
       "    </tr>\n",
       "    <tr>\n",
       "      <th>4</th>\n",
       "      <td>0500000US39041</td>\n",
       "      <td>050</td>\n",
       "      <td>Delaware</td>\n",
       "      <td>2014</td>\n",
       "      <td>164853</td>\n",
       "      <td>10268</td>\n",
       "      <td>6297</td>\n",
       "      <td>346</td>\n",
       "      <td>3354</td>\n",
       "      <td>4531</td>\n",
       "      <td>0.869253</td>\n",
       "      <td>0.054142</td>\n",
       "      <td>0.033203</td>\n",
       "      <td>0.001824</td>\n",
       "      <td>0.017685</td>\n",
       "      <td>0.023892</td>\n",
       "    </tr>\n",
       "  </tbody>\n",
       "</table>\n",
       "</div>"
      ],
      "text/plain": [
       "          GEOIDFQ SUMLEVEL    COUNTY  YEAR   White  Asian  \\\n",
       "0  0500000US39041      050  Delaware  2010  154834   7682   \n",
       "1  0500000US39041      050  Delaware  2011  157271   8233   \n",
       "2  0500000US39041      050  Delaware  2012  159102   8621   \n",
       "3  0500000US39041      050  Delaware  2013  162108   9387   \n",
       "4  0500000US39041      050  Delaware  2014  164853  10268   \n",
       "\n",
       "   Black or African American  Some other race  Two or more races  \\\n",
       "0                       5863              270               2760   \n",
       "1                       6001              291               2896   \n",
       "2                       6048              304               3028   \n",
       "3                       6186              335               3199   \n",
       "4                       6297              346               3354   \n",
       "\n",
       "   Hispanic or Latino (any races)  White proportion  Asian proportion  \\\n",
       "0                            3705          0.884190          0.043869   \n",
       "1                            3892          0.880656          0.046102   \n",
       "2                            4131          0.877882          0.047568   \n",
       "3                            4330          0.873686          0.050592   \n",
       "4                            4531          0.869253          0.054142   \n",
       "\n",
       "   Black or African American proportion  Some other race proportion  \\\n",
       "0                              0.033481                    0.001542   \n",
       "1                              0.033603                    0.001629   \n",
       "2                              0.033371                    0.001677   \n",
       "3                              0.033340                    0.001805   \n",
       "4                              0.033203                    0.001824   \n",
       "\n",
       "   Two or more races proportion  Hispanic or Latino (any races) proportion  \n",
       "0                      0.015761                                   0.021158  \n",
       "1                      0.016216                                   0.021794  \n",
       "2                      0.016708                                   0.022794  \n",
       "3                      0.017241                                   0.023337  \n",
       "4                      0.017685                                   0.023892  "
      ]
     },
     "execution_count": 516,
     "metadata": {},
     "output_type": "execute_result"
    }
   ],
   "source": [
    "pep.head()"
   ]
  },
  {
   "cell_type": "markdown",
   "id": "2a092c13-7ebc-4b98-afc1-1aad558a64ef",
   "metadata": {},
   "source": [
    "Make sure the division didn't produce any divide by zero errors."
   ]
  },
  {
   "cell_type": "code",
   "execution_count": 517,
   "id": "8301037e-8922-494a-90b7-25d068c6a27f",
   "metadata": {},
   "outputs": [
    {
     "name": "stdout",
     "output_type": "stream",
     "text": [
      "White: null count=0, inf count=0\n",
      "Asian: null count=0, inf count=0\n",
      "Black or African American: null count=0, inf count=0\n",
      "Some other race: null count=0, inf count=0\n",
      "Two or more races: null count=0, inf count=0\n",
      "Hispanic or Latino (any races): null count=0, inf count=0\n"
     ]
    }
   ],
   "source": [
    "for race in RACE_MAP.keys():\n",
    "    print(\"{}: null count={}, inf count={}\".format(\n",
    "        race, \n",
    "        pep.loc[pep[race].isna()].shape[0], \n",
    "        pep.loc[pep[race].isin([np.nan, -np.nan])].shape[0]\n",
    "    ))"
   ]
  },
  {
   "cell_type": "markdown",
   "id": "f3fc9113-a612-48c8-9bd6-cbe473add9a0",
   "metadata": {},
   "source": [
    "### Melt back to long format"
   ]
  },
  {
   "cell_type": "markdown",
   "id": "fc807aae-0cbf-42ef-a95e-d97852e82d6d",
   "metadata": {},
   "source": [
    "Melt back to long format, dropping the counts and retaining the proportions."
   ]
  },
  {
   "cell_type": "code",
   "execution_count": 518,
   "id": "4f26d31a-0b64-493a-b5a9-04a9d1cb9903",
   "metadata": {},
   "outputs": [
    {
     "data": {
      "text/html": [
       "<div>\n",
       "<style scoped>\n",
       "    .dataframe tbody tr th:only-of-type {\n",
       "        vertical-align: middle;\n",
       "    }\n",
       "\n",
       "    .dataframe tbody tr th {\n",
       "        vertical-align: top;\n",
       "    }\n",
       "\n",
       "    .dataframe thead th {\n",
       "        text-align: right;\n",
       "    }\n",
       "</style>\n",
       "<table border=\"1\" class=\"dataframe\">\n",
       "  <thead>\n",
       "    <tr style=\"text-align: right;\">\n",
       "      <th></th>\n",
       "      <th>GEOIDFQ</th>\n",
       "      <th>SUMLEVEL</th>\n",
       "      <th>COUNTY</th>\n",
       "      <th>YEAR</th>\n",
       "      <th>RACE</th>\n",
       "      <th>PROPORTION</th>\n",
       "    </tr>\n",
       "  </thead>\n",
       "  <tbody>\n",
       "    <tr>\n",
       "      <th>0</th>\n",
       "      <td>0500000US39041</td>\n",
       "      <td>050</td>\n",
       "      <td>Delaware</td>\n",
       "      <td>2010</td>\n",
       "      <td>White</td>\n",
       "      <td>0.884190</td>\n",
       "    </tr>\n",
       "    <tr>\n",
       "      <th>1</th>\n",
       "      <td>0500000US39041</td>\n",
       "      <td>050</td>\n",
       "      <td>Delaware</td>\n",
       "      <td>2011</td>\n",
       "      <td>White</td>\n",
       "      <td>0.880656</td>\n",
       "    </tr>\n",
       "    <tr>\n",
       "      <th>2</th>\n",
       "      <td>0500000US39041</td>\n",
       "      <td>050</td>\n",
       "      <td>Delaware</td>\n",
       "      <td>2012</td>\n",
       "      <td>White</td>\n",
       "      <td>0.877882</td>\n",
       "    </tr>\n",
       "    <tr>\n",
       "      <th>3</th>\n",
       "      <td>0500000US39041</td>\n",
       "      <td>050</td>\n",
       "      <td>Delaware</td>\n",
       "      <td>2013</td>\n",
       "      <td>White</td>\n",
       "      <td>0.873686</td>\n",
       "    </tr>\n",
       "    <tr>\n",
       "      <th>4</th>\n",
       "      <td>0500000US39041</td>\n",
       "      <td>050</td>\n",
       "      <td>Delaware</td>\n",
       "      <td>2014</td>\n",
       "      <td>White</td>\n",
       "      <td>0.869253</td>\n",
       "    </tr>\n",
       "    <tr>\n",
       "      <th>...</th>\n",
       "      <td>...</td>\n",
       "      <td>...</td>\n",
       "      <td>...</td>\n",
       "      <td>...</td>\n",
       "      <td>...</td>\n",
       "      <td>...</td>\n",
       "    </tr>\n",
       "    <tr>\n",
       "      <th>1339</th>\n",
       "      <td>M010000US001</td>\n",
       "      <td>M01</td>\n",
       "      <td>15-County Region</td>\n",
       "      <td>2019</td>\n",
       "      <td>Hispanic or Latino (any races)</td>\n",
       "      <td>0.041684</td>\n",
       "    </tr>\n",
       "    <tr>\n",
       "      <th>1340</th>\n",
       "      <td>M010000US001</td>\n",
       "      <td>M01</td>\n",
       "      <td>15-County Region</td>\n",
       "      <td>2020</td>\n",
       "      <td>Hispanic or Latino (any races)</td>\n",
       "      <td>0.048386</td>\n",
       "    </tr>\n",
       "    <tr>\n",
       "      <th>1341</th>\n",
       "      <td>M010000US001</td>\n",
       "      <td>M01</td>\n",
       "      <td>15-County Region</td>\n",
       "      <td>2021</td>\n",
       "      <td>Hispanic or Latino (any races)</td>\n",
       "      <td>0.049611</td>\n",
       "    </tr>\n",
       "    <tr>\n",
       "      <th>1342</th>\n",
       "      <td>M010000US001</td>\n",
       "      <td>M01</td>\n",
       "      <td>15-County Region</td>\n",
       "      <td>2022</td>\n",
       "      <td>Hispanic or Latino (any races)</td>\n",
       "      <td>0.051234</td>\n",
       "    </tr>\n",
       "    <tr>\n",
       "      <th>1343</th>\n",
       "      <td>M010000US001</td>\n",
       "      <td>M01</td>\n",
       "      <td>15-County Region</td>\n",
       "      <td>2023</td>\n",
       "      <td>Hispanic or Latino (any races)</td>\n",
       "      <td>0.053032</td>\n",
       "    </tr>\n",
       "  </tbody>\n",
       "</table>\n",
       "<p>1344 rows × 6 columns</p>\n",
       "</div>"
      ],
      "text/plain": [
       "             GEOIDFQ SUMLEVEL            COUNTY  YEAR  \\\n",
       "0     0500000US39041      050          Delaware  2010   \n",
       "1     0500000US39041      050          Delaware  2011   \n",
       "2     0500000US39041      050          Delaware  2012   \n",
       "3     0500000US39041      050          Delaware  2013   \n",
       "4     0500000US39041      050          Delaware  2014   \n",
       "...              ...      ...               ...   ...   \n",
       "1339    M010000US001      M01  15-County Region  2019   \n",
       "1340    M010000US001      M01  15-County Region  2020   \n",
       "1341    M010000US001      M01  15-County Region  2021   \n",
       "1342    M010000US001      M01  15-County Region  2022   \n",
       "1343    M010000US001      M01  15-County Region  2023   \n",
       "\n",
       "                                RACE  PROPORTION  \n",
       "0                              White    0.884190  \n",
       "1                              White    0.880656  \n",
       "2                              White    0.877882  \n",
       "3                              White    0.873686  \n",
       "4                              White    0.869253  \n",
       "...                              ...         ...  \n",
       "1339  Hispanic or Latino (any races)    0.041684  \n",
       "1340  Hispanic or Latino (any races)    0.048386  \n",
       "1341  Hispanic or Latino (any races)    0.049611  \n",
       "1342  Hispanic or Latino (any races)    0.051234  \n",
       "1343  Hispanic or Latino (any races)    0.053032  \n",
       "\n",
       "[1344 rows x 6 columns]"
      ]
     },
     "execution_count": 518,
     "metadata": {},
     "output_type": "execute_result"
    }
   ],
   "source": [
    "pep = pep.filter(regex=\"GEOIDFQ|SUMLEVEL|COUNTY|YEAR|proportion$\")\n",
    "pep = pep.rename(columns=(lambda x:x.replace(\" proportion\",\"\")))\n",
    "pep = pep.melt(id_vars=[\"GEOIDFQ\",\"SUMLEVEL\",\"COUNTY\",\"YEAR\"], var_name=\"RACE\", value_name=\"PROPORTION\")\n",
    "pep"
   ]
  },
  {
   "cell_type": "markdown",
   "id": "9054ed7d-dbca-45d1-bf9d-27e18b061bf6",
   "metadata": {},
   "source": [
    "### Standardize the data"
   ]
  },
  {
   "cell_type": "markdown",
   "id": "7817194e-8af1-4afb-bbaa-5de521abd625",
   "metadata": {},
   "source": [
    "Load the output schema."
   ]
  },
  {
   "cell_type": "code",
   "execution_count": 519,
   "id": "e7f74f6b-ca02-42ef-b005-0e4c25230025",
   "metadata": {},
   "outputs": [],
   "source": [
    "outputSchema = morpc.frictionless_load_schema(OUTPUT_TABLE_SCHEMA_PATH)"
   ]
  },
  {
   "cell_type": "markdown",
   "id": "d80991a9-5831-4b65-8636-50381fad5852",
   "metadata": {},
   "source": [
    "Give the \"COUNTY\" column a more generic name."
   ]
  },
  {
   "cell_type": "code",
   "execution_count": 520,
   "id": "06a642d8-960e-49e7-afca-8beb69219438",
   "metadata": {},
   "outputs": [],
   "source": [
    "pep = pep.rename(columns={\"COUNTY\":\"GEONAME\"})"
   ]
  },
  {
   "cell_type": "markdown",
   "id": "8041fca5-b7d7-4a5a-8f76-395e13302bac",
   "metadata": {},
   "source": [
    "Convert SUMLEVEL to geography type."
   ]
  },
  {
   "cell_type": "code",
   "execution_count": 521,
   "id": "b3f1fcb9-853c-42a3-818e-60a602e0001e",
   "metadata": {},
   "outputs": [],
   "source": [
    "pep[\"GEOTYPE\"] = pep[\"SUMLEVEL\"].apply(lambda x:(\"Region\" if x==morpc.SUMLEVEL_LOOKUP[\"REGION15\"] else \"County\"))"
   ]
  },
  {
   "cell_type": "markdown",
   "id": "b29a7395-b70c-45f2-b029-4b1a5bfaa0a9",
   "metadata": {},
   "source": [
    "Append a \"County\" suffix to county names."
   ]
  },
  {
   "cell_type": "code",
   "execution_count": 522,
   "id": "c91ce333-46d3-4500-a824-a68ebf7ce8f6",
   "metadata": {},
   "outputs": [],
   "source": [
    "pep[\"GEONAME\"] = pep[\"GEONAME\"].apply(lambda x:(x if x == \"15-County Region\" else \"{} County\".format(x)))"
   ]
  },
  {
   "cell_type": "markdown",
   "id": "16513bf0-24f0-44f9-8836-5e07d6a35e82",
   "metadata": {},
   "source": [
    "Make sure the data contains only the columns defined in the schema."
   ]
  },
  {
   "cell_type": "code",
   "execution_count": 523,
   "id": "ef42e087-cc02-471b-b258-c2adc75e3761",
   "metadata": {},
   "outputs": [],
   "source": [
    "pep = pep.filter(items=outputSchema.field_names, axis=\"columns\")"
   ]
  },
  {
   "cell_type": "markdown",
   "id": "ff113da8-b1dd-438b-863e-8d396648cda4",
   "metadata": {},
   "source": [
    "Make sure the data types comply with the schema."
   ]
  },
  {
   "cell_type": "code",
   "execution_count": 524,
   "id": "df98d710-9a56-43fb-996d-bac5f10f9a21",
   "metadata": {},
   "outputs": [
    {
     "name": "stdout",
     "output_type": "stream",
     "text": [
      "frictionless_cast_field_types | INFO | Casting field GEOIDFQ as type string.\n",
      "frictionless_cast_field_types | INFO | Casting field GEOTYPE as type string.\n",
      "frictionless_cast_field_types | INFO | Casting field GEONAME as type string.\n",
      "frictionless_cast_field_types | INFO | Casting field YEAR as type integer.\n",
      "frictionless_cast_field_types | INFO | Casting field RACE as type string.\n",
      "frictionless_cast_field_types | INFO | Casting field PROPORTION as type number.\n"
     ]
    }
   ],
   "source": [
    "pep = morpc.cast_field_types(pep, outputSchema)"
   ]
  },
  {
   "cell_type": "markdown",
   "id": "b845876e-aee4-4410-a205-c43379000d4e",
   "metadata": {},
   "source": [
    "## Export data"
   ]
  },
  {
   "cell_type": "code",
   "execution_count": 525,
   "id": "82acae8d-4415-45e2-97e8-ece0ab62d669",
   "metadata": {},
   "outputs": [],
   "source": [
    "pep.to_csv(OUTPUT_TABLE_PATH, index=False)"
   ]
  },
  {
   "cell_type": "markdown",
   "id": "5958e6a6-1ed1-4f30-9f0d-e1584a7ca0c2",
   "metadata": {},
   "source": [
    "## Create resource file for exported data"
   ]
  },
  {
   "cell_type": "code",
   "execution_count": 526,
   "id": "6a8c0cfb-5fae-447a-8d79-3ef8414eadd4",
   "metadata": {
    "scrolled": true
   },
   "outputs": [
    {
     "name": "stdout",
     "output_type": "stream",
     "text": [
      "morpc.frictionless_create_resource | INFO | Format not specified. Using format derived from data file extension: csv\n",
      "morpc.frictionless_create_resource | INFO | Schema path not specified. Using path derived from data file path: insights-race.schema.yaml\n",
      "morpc.frictionless_create_resource | INFO | Writing Frictionless Resource file to output_data\\insights-race.resource.yaml\n",
      "morpc.frictionless_create_resource | INFO | Validating resource on disk.\n",
      "morpc.frictionless_validate_resource | INFO | Validating resource on disk (including data and schema). This may take some time.\n",
      "morpc.frictionless_validate_resource | INFO | Resource is valid\n"
     ]
    }
   ],
   "source": [
    "pepResource = morpc.frictionless_create_resource(OUTPUT_TABLE_FILENAME, \n",
    "    resourcePath=OUTPUT_TABLE_RESOURCE_PATH,\n",
    "    title=\"MORPC Insights | Race and Ethnicity\", \n",
    "    name=\"race\", \n",
    "    description=\"Count and proportions of racial subgroups of the MORPC 15-County region and the counties therein, according to the U.S. Census Population Estimates Program.\",\n",
    "    writeResource=True,\n",
    "    validate=True\n",
    ")"
   ]
  },
  {
   "cell_type": "markdown",
   "id": "f9168648-3b4f-48b8-8e06-06f6b3b4ce49",
   "metadata": {},
   "source": [
    "## Generate static charts"
   ]
  },
  {
   "cell_type": "code",
   "execution_count": 527,
   "id": "c1037fd9-82c3-4259-8936-4519e9f8ed34",
   "metadata": {},
   "outputs": [],
   "source": [
    "for f in os.scandir(chartDir):\n",
    "    os.remove(f)"
   ]
  },
  {
   "cell_type": "markdown",
   "id": "dbb2896f-25ab-4916-a1ff-2afb28d3d77f",
   "metadata": {},
   "source": [
    "Load a standard color set for the chart elements."
   ]
  },
  {
   "cell_type": "code",
   "execution_count": 528,
   "id": "13650e55-8157-473c-ba3f-8526cc3b58bb",
   "metadata": {},
   "outputs": [],
   "source": [
    "colorset = [\"#149ece\",\"#007ac2\",\"#a7c636\",\"#9e559c\",\"#fc921f\",\"#ffde3e\"]"
   ]
  },
  {
   "cell_type": "code",
   "execution_count": 529,
   "id": "54fe7484-7ef5-4698-83a6-11f896fcba12",
   "metadata": {
    "tags": []
   },
   "outputs": [],
   "source": [
    "%matplotlib agg\n",
    "\n",
    "platformIncludeList = []\n",
    "# Iterate over each geography in data set\n",
    "for geoid in pep[\"GEOIDFQ\"].unique():\n",
    "\n",
    "    # Extract the data for a single geography\n",
    "    temp = pep.loc[pep[\"GEOIDFQ\"] == geoid].copy()\n",
    "\n",
    "    if(temp.empty):\n",
    "        continue\n",
    "\n",
    "    platformIncludeList += [geoid]\n",
    "    \n",
    "    # Generate a title string\n",
    "    geoName = temp.iloc[0][\"GEONAME\"]\n",
    "    title = \"Composition of Population by Race - {}\".format(geoName)\n",
    "    xlabel = None\n",
    "    ylabel = \"Share of population (percent)\"\n",
    "\n",
    "    # Make the variable names nicer looking\n",
    "    temp = temp.rename(columns={\n",
    "        \"YEAR\":\"Year\"\n",
    "    })\n",
    "    \n",
    "    # Pivot to wide format\n",
    "    temp = temp.drop(columns=[\"GEOIDFQ\",\"GEOTYPE\",\"GEONAME\"]).pivot(index=\"Year\", columns=\"RACE\", values=\"PROPORTION\")\n",
    "    temp.columns.name = None\n",
    "\n",
    "    # Scale proportions to reflect percentages\n",
    "    temp = temp*100\n",
    "\n",
    "    # Create and annotate the plot\n",
    "    PLOTWIDTH = 8\n",
    "    fig,ax = plt.subplots(figsize=(PLOTWIDTH,PLOTWIDTH/16*9))\n",
    "\n",
    "    temp.plot.bar(ax=ax, stacked=True, color=colorset)\n",
    "   \n",
    "    ax.set_title(title, fontsize=14)\n",
    "    ax.set_xlabel(xlabel)\n",
    "    ax.set_ylabel(ylabel)\n",
    "    ax.set_ylim(ymin=0, ymax=100)\n",
    "    ax.set_yticks([round(tick,0) for tick in ax.get_yticks()])\n",
    "    handles, labels = ax.get_legend_handles_labels()\n",
    "    labels = [textwrap.fill(label, 15) for label in labels]\n",
    "    legend = ax.legend(handles[::-1], labels[::-1], loc='center left', bbox_to_anchor=(1, 0.5), labelspacing=1)\n",
    "    ax.set_axisbelow(True)\n",
    "    \n",
    "    # Format the y-axis labels as integers with comma separators\n",
    "    ax.get_yaxis().set_major_formatter(matplotlib.ticker.FuncFormatter(lambda x, p: format(int(x), ',')))\n",
    "   \n",
    "    # Save the figure to disk as an SVG file\n",
    "    ax.figure.savefig(os.path.join(chartDir, \"{}.svg\".format(geoid)), bbox_extra_artists=(legend,), bbox_inches='tight')\n",
    "    \n",
    "    plt.close(ax.figure)\n",
    "\n",
    "    writer = pd.ExcelWriter(os.path.join(chartDir, \"{}.xlsx\".format(geoid)), engine='xlsxwriter')\n",
    "    dataOptions = {\n",
    "        \"numberFormat\": {\n",
    "            \"Year\":\"0\",\n",
    "            'White':\"0.00\", \n",
    "            'Asian':\"0.00\",\n",
    "            'Black or African American':\"0.00\",\n",
    "            'Some other race':\"0.00\",\n",
    "            'Two or more races':\"0.00\",\n",
    "            'Hispanic or Latino (any races)':\"0.00\"\n",
    "        },\n",
    "        \"columnWidth\": 40\n",
    "    }\n",
    "    chartOptions = {\n",
    "        \"subtype\":\"stacked\",\n",
    "        \"colors\": colorset,\n",
    "        \"titles\": {\n",
    "            \"chartTitle\": title,\n",
    "            \"xTitle\": xlabel,\n",
    "            \"yTitle\": ylabel\n",
    "        },\n",
    "        \"seriesOptions\": [{\"gap\":100} for x in temp.columns],\n",
    "        \"xAxisOptions\": {\n",
    "            \"num_font\": {\"size\":12},\n",
    "        },\n",
    "        \"yAxisOptions\": {\n",
    "            \"num_font\": {\"size\":12},\n",
    "            \"num_format\": \"0\",\n",
    "            \"name_font\": {\"size\":12},\n",
    "            \"min\":0,\n",
    "            \"max\":100\n",
    "        },\n",
    "        \"legendOptions\":{\n",
    "            \"position\":\"bottom\",\n",
    "            \"ncol\": 2,\n",
    "            \"font\":{\"size\":12}\n",
    "        },\n",
    "        \"sizeOptions\":{\n",
    "            \"x_scale\":1.5,\n",
    "            \"y_scale\":1.5\n",
    "        },\n",
    "        \"location\": \"below\"\n",
    "    }\n",
    "    morpc.data_chart_to_excel(temp, writer, chartType=\"column\", dataOptions=dataOptions, chartOptions=chartOptions)\n",
    "    writer.close()    \n",
    "    \n",
    "%matplotlib inline"
   ]
  },
  {
   "cell_type": "markdown",
   "id": "07b0555f-a99e-4297-8623-0aa3de7122df",
   "metadata": {},
   "source": [
    "## Generate Insights catalog content"
   ]
  },
  {
   "cell_type": "markdown",
   "id": "abea4018-3b07-4999-b98b-2edbe1e29238",
   "metadata": {},
   "source": [
    "The content in the Insights platform is controlled by a catalog spreadsheet. Each tile to be displayed in the platform must have a record in the catalog.  This section will create the records for the tiles that display the alternative fuel station data.  Eventually this function will be performed by a separate staging script."
   ]
  },
  {
   "cell_type": "markdown",
   "id": "75c5632a-9833-48ed-96d1-d9a35a4ad7ba",
   "metadata": {},
   "source": [
    "First specify the column names used in the catalog."
   ]
  },
  {
   "cell_type": "code",
   "execution_count": 530,
   "id": "43882b7e-d411-4830-b4d2-7698fdd8c4f2",
   "metadata": {},
   "outputs": [],
   "source": [
    "columnNames=[\"TileID\",\"TilesetID\",\"GeographyType\",\"GeographyName\",\"Category\",\"Headline\",\"Commentary\",\"ThumbnailURL\",\"Contributor\",\"Vintage\",\"UpdateInterval\",\"ShareURL\",\"DataProductURL\",\"MoreInformationURL\"]"
   ]
  },
  {
   "cell_type": "markdown",
   "id": "32ecd541-9b63-492f-8450-3b4b120b199b",
   "metadata": {},
   "source": [
    "Create a new dataframe containing only the geographies for which thumbnail images were produced in the section above."
   ]
  },
  {
   "cell_type": "code",
   "execution_count": 531,
   "id": "eacdf0ef-e819-450e-9ea1-b454bfc7b431",
   "metadata": {},
   "outputs": [],
   "source": [
    "catalog = pep.loc[pep[\"GEOIDFQ\"].isin(platformIncludeList)].copy()"
   ]
  },
  {
   "cell_type": "markdown",
   "id": "5126cea2-2720-420f-9091-ae6123235ddc",
   "metadata": {},
   "source": [
    "Extract only the metadata columns of interest and flatten the data to have only one record per geography. Rename the metadata fields to match the catalog fields."
   ]
  },
  {
   "cell_type": "code",
   "execution_count": 532,
   "id": "de1a160b-3b36-4b38-8b7d-125bbb39ec7c",
   "metadata": {},
   "outputs": [],
   "source": [
    "catalog = catalog.filter(items=[\"GEOIDFQ\",\"GEONAME\",\"GEOTYPE\"], axis=\"columns\") \\\n",
    "    .groupby(\"GEOIDFQ\").first() \\\n",
    "    .reset_index() \\\n",
    "    .rename(columns={\"GEONAME\":\"GeographyName\",\"GEOTYPE\":\"GeographyType\"})"
   ]
  },
  {
   "cell_type": "markdown",
   "id": "227a2d03-2f1e-413b-9bdb-a9bd2ff18c80",
   "metadata": {},
   "source": [
    "Populate some placeholder fields."
   ]
  },
  {
   "cell_type": "code",
   "execution_count": 533,
   "id": "26cf5684-e5b4-4862-bc8c-80a354dc8545",
   "metadata": {},
   "outputs": [],
   "source": [
    "catalog[\"TileID\"] = None\n",
    "catalog[\"TilesetID\"] = \"TBD\"\n",
    "catalog[\"Category\"] = None\n",
    "catalog[\"Headline\"] = \"TBD\"\n",
    "catalog[\"Commentary\"] = \"TBD\""
   ]
  },
  {
   "cell_type": "markdown",
   "id": "e6cf4729-9ad8-466f-b208-515bdbf0f612",
   "metadata": {},
   "source": [
    "Generate the URL for the thumbnail images. These will be hosted in GitHub and will be indexed by GEOIDFQ."
   ]
  },
  {
   "cell_type": "code",
   "execution_count": 534,
   "id": "d5236da5-8d79-426a-bcd7-09cbcdc87402",
   "metadata": {},
   "outputs": [],
   "source": [
    "catalog[\"ThumbnailURL\"] = catalog[\"GEOIDFQ\"].apply(lambda geoid:\"https://raw.githubusercontent.com/morpc-insights/insights-race/refs/heads/main/output_data/charts/{}.svg\".format(geoid))"
   ]
  },
  {
   "cell_type": "markdown",
   "id": "36ba2c86-62e7-4b72-966d-b79f09e72c30",
   "metadata": {},
   "source": [
    "Populate some other simple metadata.  Vintage in this case refers to the year that the content was published in Insights. This is to give readers an idea of how old it is.  UpdateInterval gives them an idea of when to expect the next version. ShareURL is a placeholder for now."
   ]
  },
  {
   "cell_type": "code",
   "execution_count": 535,
   "id": "1f2a090b-60b6-4377-b6be-ad01394f326e",
   "metadata": {},
   "outputs": [],
   "source": [
    "catalog[\"Contributor\"] = \"Mid-Ohio Regional Planning Commission\"\n",
    "catalog[\"Vintage\"] = str(datetime.date.today().year)\n",
    "catalog[\"UpdateInterval\"] = \"annually\"\n",
    "catalog[\"ShareURL\"] = None"
   ]
  },
  {
   "cell_type": "markdown",
   "id": "4e976014-ac32-4869-986e-2481b7e9359c",
   "metadata": {},
   "source": [
    "Generate the data product URL.  This points to an ArcGIS Dashboard that accepts URL parameters.  GEOIDFQ is passed as a parameter to tell the app to load the data for a particular geography."
   ]
  },
  {
   "cell_type": "code",
   "execution_count": 536,
   "id": "6a425d81-f5d9-4fb3-9649-91541a4ff773",
   "metadata": {},
   "outputs": [],
   "source": [
    "catalog[\"DataProductURL\"] = catalog[\"GEOIDFQ\"].apply(lambda geoid:\"https://www.arcgis.com/apps/dashboards/21d70cd812fb400bb02c82819c593ce5#geoid={}\".format(geoid))"
   ]
  },
  {
   "cell_type": "markdown",
   "id": "063149cc-624c-4e9b-8116-7e0cfd4fd07a",
   "metadata": {},
   "source": [
    "Generate the URLs that point to the extended commentary pages.  Default to a common page (population.pdf) hosted in GitHub.  Point to specific pages for the 15-county region and for each county."
   ]
  },
  {
   "cell_type": "code",
   "execution_count": 537,
   "id": "c8199fc3-2fe8-4079-9c14-90a2280ed077",
   "metadata": {},
   "outputs": [],
   "source": [
    "catalog[\"MoreInformationURL\"] = \"https://morpc1-my.sharepoint.com/:w:/g/personal/aporr_morpc_org/EU33sTbsyapHgRO8yWTMz_cB-jkrxryC7h6PZkEoPwY3xQ?e=2E3FR7\""
   ]
  },
  {
   "cell_type": "markdown",
   "id": "6b61a857-dab2-49ba-8610-1e10715f69f5",
   "metadata": {},
   "source": [
    "Extract only the required columns."
   ]
  },
  {
   "cell_type": "code",
   "execution_count": 538,
   "id": "834b3dc3-5da2-4d87-b5a1-0e224099328d",
   "metadata": {},
   "outputs": [],
   "source": [
    "catalog = catalog.filter(items=columnNames, axis=\"columns\")"
   ]
  },
  {
   "cell_type": "markdown",
   "id": "ac478240-bf5c-442f-90ad-f110f4046033",
   "metadata": {},
   "source": [
    "Inspect the listing."
   ]
  },
  {
   "cell_type": "code",
   "execution_count": 539,
   "id": "173c04f6-0a80-477c-994e-c717608aa51e",
   "metadata": {},
   "outputs": [
    {
     "data": {
      "text/html": [
       "<div>\n",
       "<style scoped>\n",
       "    .dataframe tbody tr th:only-of-type {\n",
       "        vertical-align: middle;\n",
       "    }\n",
       "\n",
       "    .dataframe tbody tr th {\n",
       "        vertical-align: top;\n",
       "    }\n",
       "\n",
       "    .dataframe thead th {\n",
       "        text-align: right;\n",
       "    }\n",
       "</style>\n",
       "<table border=\"1\" class=\"dataframe\">\n",
       "  <thead>\n",
       "    <tr style=\"text-align: right;\">\n",
       "      <th></th>\n",
       "      <th>TileID</th>\n",
       "      <th>TilesetID</th>\n",
       "      <th>GeographyType</th>\n",
       "      <th>GeographyName</th>\n",
       "      <th>Category</th>\n",
       "      <th>Headline</th>\n",
       "      <th>Commentary</th>\n",
       "      <th>ThumbnailURL</th>\n",
       "      <th>Contributor</th>\n",
       "      <th>Vintage</th>\n",
       "      <th>UpdateInterval</th>\n",
       "      <th>ShareURL</th>\n",
       "      <th>DataProductURL</th>\n",
       "      <th>MoreInformationURL</th>\n",
       "    </tr>\n",
       "  </thead>\n",
       "  <tbody>\n",
       "    <tr>\n",
       "      <th>0</th>\n",
       "      <td>None</td>\n",
       "      <td>TBD</td>\n",
       "      <td>County</td>\n",
       "      <td>Delaware County</td>\n",
       "      <td>None</td>\n",
       "      <td>TBD</td>\n",
       "      <td>TBD</td>\n",
       "      <td>https://raw.githubusercontent.com/morpc-insigh...</td>\n",
       "      <td>Mid-Ohio Regional Planning Commission</td>\n",
       "      <td>2025</td>\n",
       "      <td>annually</td>\n",
       "      <td>None</td>\n",
       "      <td>https://www.arcgis.com/apps/dashboards/21d70cd...</td>\n",
       "      <td>https://morpc1-my.sharepoint.com/:w:/g/persona...</td>\n",
       "    </tr>\n",
       "    <tr>\n",
       "      <th>1</th>\n",
       "      <td>None</td>\n",
       "      <td>TBD</td>\n",
       "      <td>County</td>\n",
       "      <td>Fairfield County</td>\n",
       "      <td>None</td>\n",
       "      <td>TBD</td>\n",
       "      <td>TBD</td>\n",
       "      <td>https://raw.githubusercontent.com/morpc-insigh...</td>\n",
       "      <td>Mid-Ohio Regional Planning Commission</td>\n",
       "      <td>2025</td>\n",
       "      <td>annually</td>\n",
       "      <td>None</td>\n",
       "      <td>https://www.arcgis.com/apps/dashboards/21d70cd...</td>\n",
       "      <td>https://morpc1-my.sharepoint.com/:w:/g/persona...</td>\n",
       "    </tr>\n",
       "    <tr>\n",
       "      <th>2</th>\n",
       "      <td>None</td>\n",
       "      <td>TBD</td>\n",
       "      <td>County</td>\n",
       "      <td>Fayette County</td>\n",
       "      <td>None</td>\n",
       "      <td>TBD</td>\n",
       "      <td>TBD</td>\n",
       "      <td>https://raw.githubusercontent.com/morpc-insigh...</td>\n",
       "      <td>Mid-Ohio Regional Planning Commission</td>\n",
       "      <td>2025</td>\n",
       "      <td>annually</td>\n",
       "      <td>None</td>\n",
       "      <td>https://www.arcgis.com/apps/dashboards/21d70cd...</td>\n",
       "      <td>https://morpc1-my.sharepoint.com/:w:/g/persona...</td>\n",
       "    </tr>\n",
       "    <tr>\n",
       "      <th>3</th>\n",
       "      <td>None</td>\n",
       "      <td>TBD</td>\n",
       "      <td>County</td>\n",
       "      <td>Franklin County</td>\n",
       "      <td>None</td>\n",
       "      <td>TBD</td>\n",
       "      <td>TBD</td>\n",
       "      <td>https://raw.githubusercontent.com/morpc-insigh...</td>\n",
       "      <td>Mid-Ohio Regional Planning Commission</td>\n",
       "      <td>2025</td>\n",
       "      <td>annually</td>\n",
       "      <td>None</td>\n",
       "      <td>https://www.arcgis.com/apps/dashboards/21d70cd...</td>\n",
       "      <td>https://morpc1-my.sharepoint.com/:w:/g/persona...</td>\n",
       "    </tr>\n",
       "    <tr>\n",
       "      <th>4</th>\n",
       "      <td>None</td>\n",
       "      <td>TBD</td>\n",
       "      <td>County</td>\n",
       "      <td>Hocking County</td>\n",
       "      <td>None</td>\n",
       "      <td>TBD</td>\n",
       "      <td>TBD</td>\n",
       "      <td>https://raw.githubusercontent.com/morpc-insigh...</td>\n",
       "      <td>Mid-Ohio Regional Planning Commission</td>\n",
       "      <td>2025</td>\n",
       "      <td>annually</td>\n",
       "      <td>None</td>\n",
       "      <td>https://www.arcgis.com/apps/dashboards/21d70cd...</td>\n",
       "      <td>https://morpc1-my.sharepoint.com/:w:/g/persona...</td>\n",
       "    </tr>\n",
       "  </tbody>\n",
       "</table>\n",
       "</div>"
      ],
      "text/plain": [
       "  TileID TilesetID GeographyType     GeographyName Category Headline  \\\n",
       "0   None       TBD        County   Delaware County     None      TBD   \n",
       "1   None       TBD        County  Fairfield County     None      TBD   \n",
       "2   None       TBD        County    Fayette County     None      TBD   \n",
       "3   None       TBD        County   Franklin County     None      TBD   \n",
       "4   None       TBD        County    Hocking County     None      TBD   \n",
       "\n",
       "  Commentary                                       ThumbnailURL  \\\n",
       "0        TBD  https://raw.githubusercontent.com/morpc-insigh...   \n",
       "1        TBD  https://raw.githubusercontent.com/morpc-insigh...   \n",
       "2        TBD  https://raw.githubusercontent.com/morpc-insigh...   \n",
       "3        TBD  https://raw.githubusercontent.com/morpc-insigh...   \n",
       "4        TBD  https://raw.githubusercontent.com/morpc-insigh...   \n",
       "\n",
       "                             Contributor Vintage UpdateInterval ShareURL  \\\n",
       "0  Mid-Ohio Regional Planning Commission    2025       annually     None   \n",
       "1  Mid-Ohio Regional Planning Commission    2025       annually     None   \n",
       "2  Mid-Ohio Regional Planning Commission    2025       annually     None   \n",
       "3  Mid-Ohio Regional Planning Commission    2025       annually     None   \n",
       "4  Mid-Ohio Regional Planning Commission    2025       annually     None   \n",
       "\n",
       "                                      DataProductURL  \\\n",
       "0  https://www.arcgis.com/apps/dashboards/21d70cd...   \n",
       "1  https://www.arcgis.com/apps/dashboards/21d70cd...   \n",
       "2  https://www.arcgis.com/apps/dashboards/21d70cd...   \n",
       "3  https://www.arcgis.com/apps/dashboards/21d70cd...   \n",
       "4  https://www.arcgis.com/apps/dashboards/21d70cd...   \n",
       "\n",
       "                                  MoreInformationURL  \n",
       "0  https://morpc1-my.sharepoint.com/:w:/g/persona...  \n",
       "1  https://morpc1-my.sharepoint.com/:w:/g/persona...  \n",
       "2  https://morpc1-my.sharepoint.com/:w:/g/persona...  \n",
       "3  https://morpc1-my.sharepoint.com/:w:/g/persona...  \n",
       "4  https://morpc1-my.sharepoint.com/:w:/g/persona...  "
      ]
     },
     "execution_count": 539,
     "metadata": {},
     "output_type": "execute_result"
    }
   ],
   "source": [
    "catalog.head()"
   ]
  },
  {
   "cell_type": "markdown",
   "id": "a9c3080e-e890-46dc-8e7e-31523f4d6d9d",
   "metadata": {},
   "source": [
    "Save the catalog to an Excel spreadsheet."
   ]
  },
  {
   "cell_type": "code",
   "execution_count": 540,
   "id": "d1490183-185f-48c8-b7d2-497c0f265613",
   "metadata": {},
   "outputs": [],
   "source": [
    "catalog.to_excel(\"catalog.xlsx\", index=False)"
   ]
  },
  {
   "cell_type": "markdown",
   "id": "71d6a808-be92-4ef6-8ee7-f341d115e974",
   "metadata": {},
   "source": [
    "It is necessary to manually add these records to the master catalog or update the records already therein.  See the following file in GitHub:\n",
    "\n",
    "https://github.com/morpc/morpc-insights/blob/main/catalog/morpc_insights_catalog.xlsx\n"
   ]
  },
  {
   "cell_type": "code",
   "execution_count": 541,
   "id": "31811896-19b9-4034-ab32-0abcc9be876f",
   "metadata": {},
   "outputs": [
    {
     "data": {
      "text/html": [
       "<div>\n",
       "<style scoped>\n",
       "    .dataframe tbody tr th:only-of-type {\n",
       "        vertical-align: middle;\n",
       "    }\n",
       "\n",
       "    .dataframe tbody tr th {\n",
       "        vertical-align: top;\n",
       "    }\n",
       "\n",
       "    .dataframe thead th {\n",
       "        text-align: right;\n",
       "    }\n",
       "</style>\n",
       "<table border=\"1\" class=\"dataframe\">\n",
       "  <thead>\n",
       "    <tr style=\"text-align: right;\">\n",
       "      <th></th>\n",
       "      <th>TileID</th>\n",
       "      <th>TilesetID</th>\n",
       "      <th>GeographyType</th>\n",
       "      <th>GeographyName</th>\n",
       "      <th>Category</th>\n",
       "      <th>Headline</th>\n",
       "      <th>Commentary</th>\n",
       "      <th>ThumbnailURL</th>\n",
       "      <th>Contributor</th>\n",
       "      <th>Vintage</th>\n",
       "      <th>UpdateInterval</th>\n",
       "      <th>ShareURL</th>\n",
       "      <th>DataProductURL</th>\n",
       "      <th>MoreInformationURL</th>\n",
       "    </tr>\n",
       "  </thead>\n",
       "  <tbody>\n",
       "    <tr>\n",
       "      <th>0</th>\n",
       "      <td>None</td>\n",
       "      <td>TBD</td>\n",
       "      <td>County</td>\n",
       "      <td>Delaware County</td>\n",
       "      <td>None</td>\n",
       "      <td>TBD</td>\n",
       "      <td>TBD</td>\n",
       "      <td>https://raw.githubusercontent.com/morpc-insigh...</td>\n",
       "      <td>Mid-Ohio Regional Planning Commission</td>\n",
       "      <td>2025</td>\n",
       "      <td>annually</td>\n",
       "      <td>None</td>\n",
       "      <td>https://www.arcgis.com/apps/dashboards/21d70cd...</td>\n",
       "      <td>https://morpc1-my.sharepoint.com/:w:/g/persona...</td>\n",
       "    </tr>\n",
       "    <tr>\n",
       "      <th>1</th>\n",
       "      <td>None</td>\n",
       "      <td>TBD</td>\n",
       "      <td>County</td>\n",
       "      <td>Fairfield County</td>\n",
       "      <td>None</td>\n",
       "      <td>TBD</td>\n",
       "      <td>TBD</td>\n",
       "      <td>https://raw.githubusercontent.com/morpc-insigh...</td>\n",
       "      <td>Mid-Ohio Regional Planning Commission</td>\n",
       "      <td>2025</td>\n",
       "      <td>annually</td>\n",
       "      <td>None</td>\n",
       "      <td>https://www.arcgis.com/apps/dashboards/21d70cd...</td>\n",
       "      <td>https://morpc1-my.sharepoint.com/:w:/g/persona...</td>\n",
       "    </tr>\n",
       "    <tr>\n",
       "      <th>2</th>\n",
       "      <td>None</td>\n",
       "      <td>TBD</td>\n",
       "      <td>County</td>\n",
       "      <td>Fayette County</td>\n",
       "      <td>None</td>\n",
       "      <td>TBD</td>\n",
       "      <td>TBD</td>\n",
       "      <td>https://raw.githubusercontent.com/morpc-insigh...</td>\n",
       "      <td>Mid-Ohio Regional Planning Commission</td>\n",
       "      <td>2025</td>\n",
       "      <td>annually</td>\n",
       "      <td>None</td>\n",
       "      <td>https://www.arcgis.com/apps/dashboards/21d70cd...</td>\n",
       "      <td>https://morpc1-my.sharepoint.com/:w:/g/persona...</td>\n",
       "    </tr>\n",
       "    <tr>\n",
       "      <th>3</th>\n",
       "      <td>None</td>\n",
       "      <td>TBD</td>\n",
       "      <td>County</td>\n",
       "      <td>Franklin County</td>\n",
       "      <td>None</td>\n",
       "      <td>TBD</td>\n",
       "      <td>TBD</td>\n",
       "      <td>https://raw.githubusercontent.com/morpc-insigh...</td>\n",
       "      <td>Mid-Ohio Regional Planning Commission</td>\n",
       "      <td>2025</td>\n",
       "      <td>annually</td>\n",
       "      <td>None</td>\n",
       "      <td>https://www.arcgis.com/apps/dashboards/21d70cd...</td>\n",
       "      <td>https://morpc1-my.sharepoint.com/:w:/g/persona...</td>\n",
       "    </tr>\n",
       "    <tr>\n",
       "      <th>4</th>\n",
       "      <td>None</td>\n",
       "      <td>TBD</td>\n",
       "      <td>County</td>\n",
       "      <td>Hocking County</td>\n",
       "      <td>None</td>\n",
       "      <td>TBD</td>\n",
       "      <td>TBD</td>\n",
       "      <td>https://raw.githubusercontent.com/morpc-insigh...</td>\n",
       "      <td>Mid-Ohio Regional Planning Commission</td>\n",
       "      <td>2025</td>\n",
       "      <td>annually</td>\n",
       "      <td>None</td>\n",
       "      <td>https://www.arcgis.com/apps/dashboards/21d70cd...</td>\n",
       "      <td>https://morpc1-my.sharepoint.com/:w:/g/persona...</td>\n",
       "    </tr>\n",
       "    <tr>\n",
       "      <th>5</th>\n",
       "      <td>None</td>\n",
       "      <td>TBD</td>\n",
       "      <td>County</td>\n",
       "      <td>Knox County</td>\n",
       "      <td>None</td>\n",
       "      <td>TBD</td>\n",
       "      <td>TBD</td>\n",
       "      <td>https://raw.githubusercontent.com/morpc-insigh...</td>\n",
       "      <td>Mid-Ohio Regional Planning Commission</td>\n",
       "      <td>2025</td>\n",
       "      <td>annually</td>\n",
       "      <td>None</td>\n",
       "      <td>https://www.arcgis.com/apps/dashboards/21d70cd...</td>\n",
       "      <td>https://morpc1-my.sharepoint.com/:w:/g/persona...</td>\n",
       "    </tr>\n",
       "    <tr>\n",
       "      <th>6</th>\n",
       "      <td>None</td>\n",
       "      <td>TBD</td>\n",
       "      <td>County</td>\n",
       "      <td>Licking County</td>\n",
       "      <td>None</td>\n",
       "      <td>TBD</td>\n",
       "      <td>TBD</td>\n",
       "      <td>https://raw.githubusercontent.com/morpc-insigh...</td>\n",
       "      <td>Mid-Ohio Regional Planning Commission</td>\n",
       "      <td>2025</td>\n",
       "      <td>annually</td>\n",
       "      <td>None</td>\n",
       "      <td>https://www.arcgis.com/apps/dashboards/21d70cd...</td>\n",
       "      <td>https://morpc1-my.sharepoint.com/:w:/g/persona...</td>\n",
       "    </tr>\n",
       "    <tr>\n",
       "      <th>7</th>\n",
       "      <td>None</td>\n",
       "      <td>TBD</td>\n",
       "      <td>County</td>\n",
       "      <td>Logan County</td>\n",
       "      <td>None</td>\n",
       "      <td>TBD</td>\n",
       "      <td>TBD</td>\n",
       "      <td>https://raw.githubusercontent.com/morpc-insigh...</td>\n",
       "      <td>Mid-Ohio Regional Planning Commission</td>\n",
       "      <td>2025</td>\n",
       "      <td>annually</td>\n",
       "      <td>None</td>\n",
       "      <td>https://www.arcgis.com/apps/dashboards/21d70cd...</td>\n",
       "      <td>https://morpc1-my.sharepoint.com/:w:/g/persona...</td>\n",
       "    </tr>\n",
       "    <tr>\n",
       "      <th>8</th>\n",
       "      <td>None</td>\n",
       "      <td>TBD</td>\n",
       "      <td>County</td>\n",
       "      <td>Madison County</td>\n",
       "      <td>None</td>\n",
       "      <td>TBD</td>\n",
       "      <td>TBD</td>\n",
       "      <td>https://raw.githubusercontent.com/morpc-insigh...</td>\n",
       "      <td>Mid-Ohio Regional Planning Commission</td>\n",
       "      <td>2025</td>\n",
       "      <td>annually</td>\n",
       "      <td>None</td>\n",
       "      <td>https://www.arcgis.com/apps/dashboards/21d70cd...</td>\n",
       "      <td>https://morpc1-my.sharepoint.com/:w:/g/persona...</td>\n",
       "    </tr>\n",
       "    <tr>\n",
       "      <th>9</th>\n",
       "      <td>None</td>\n",
       "      <td>TBD</td>\n",
       "      <td>County</td>\n",
       "      <td>Marion County</td>\n",
       "      <td>None</td>\n",
       "      <td>TBD</td>\n",
       "      <td>TBD</td>\n",
       "      <td>https://raw.githubusercontent.com/morpc-insigh...</td>\n",
       "      <td>Mid-Ohio Regional Planning Commission</td>\n",
       "      <td>2025</td>\n",
       "      <td>annually</td>\n",
       "      <td>None</td>\n",
       "      <td>https://www.arcgis.com/apps/dashboards/21d70cd...</td>\n",
       "      <td>https://morpc1-my.sharepoint.com/:w:/g/persona...</td>\n",
       "    </tr>\n",
       "    <tr>\n",
       "      <th>10</th>\n",
       "      <td>None</td>\n",
       "      <td>TBD</td>\n",
       "      <td>County</td>\n",
       "      <td>Morrow County</td>\n",
       "      <td>None</td>\n",
       "      <td>TBD</td>\n",
       "      <td>TBD</td>\n",
       "      <td>https://raw.githubusercontent.com/morpc-insigh...</td>\n",
       "      <td>Mid-Ohio Regional Planning Commission</td>\n",
       "      <td>2025</td>\n",
       "      <td>annually</td>\n",
       "      <td>None</td>\n",
       "      <td>https://www.arcgis.com/apps/dashboards/21d70cd...</td>\n",
       "      <td>https://morpc1-my.sharepoint.com/:w:/g/persona...</td>\n",
       "    </tr>\n",
       "    <tr>\n",
       "      <th>11</th>\n",
       "      <td>None</td>\n",
       "      <td>TBD</td>\n",
       "      <td>County</td>\n",
       "      <td>Perry County</td>\n",
       "      <td>None</td>\n",
       "      <td>TBD</td>\n",
       "      <td>TBD</td>\n",
       "      <td>https://raw.githubusercontent.com/morpc-insigh...</td>\n",
       "      <td>Mid-Ohio Regional Planning Commission</td>\n",
       "      <td>2025</td>\n",
       "      <td>annually</td>\n",
       "      <td>None</td>\n",
       "      <td>https://www.arcgis.com/apps/dashboards/21d70cd...</td>\n",
       "      <td>https://morpc1-my.sharepoint.com/:w:/g/persona...</td>\n",
       "    </tr>\n",
       "    <tr>\n",
       "      <th>12</th>\n",
       "      <td>None</td>\n",
       "      <td>TBD</td>\n",
       "      <td>County</td>\n",
       "      <td>Pickaway County</td>\n",
       "      <td>None</td>\n",
       "      <td>TBD</td>\n",
       "      <td>TBD</td>\n",
       "      <td>https://raw.githubusercontent.com/morpc-insigh...</td>\n",
       "      <td>Mid-Ohio Regional Planning Commission</td>\n",
       "      <td>2025</td>\n",
       "      <td>annually</td>\n",
       "      <td>None</td>\n",
       "      <td>https://www.arcgis.com/apps/dashboards/21d70cd...</td>\n",
       "      <td>https://morpc1-my.sharepoint.com/:w:/g/persona...</td>\n",
       "    </tr>\n",
       "    <tr>\n",
       "      <th>13</th>\n",
       "      <td>None</td>\n",
       "      <td>TBD</td>\n",
       "      <td>County</td>\n",
       "      <td>Ross County</td>\n",
       "      <td>None</td>\n",
       "      <td>TBD</td>\n",
       "      <td>TBD</td>\n",
       "      <td>https://raw.githubusercontent.com/morpc-insigh...</td>\n",
       "      <td>Mid-Ohio Regional Planning Commission</td>\n",
       "      <td>2025</td>\n",
       "      <td>annually</td>\n",
       "      <td>None</td>\n",
       "      <td>https://www.arcgis.com/apps/dashboards/21d70cd...</td>\n",
       "      <td>https://morpc1-my.sharepoint.com/:w:/g/persona...</td>\n",
       "    </tr>\n",
       "    <tr>\n",
       "      <th>14</th>\n",
       "      <td>None</td>\n",
       "      <td>TBD</td>\n",
       "      <td>County</td>\n",
       "      <td>Union County</td>\n",
       "      <td>None</td>\n",
       "      <td>TBD</td>\n",
       "      <td>TBD</td>\n",
       "      <td>https://raw.githubusercontent.com/morpc-insigh...</td>\n",
       "      <td>Mid-Ohio Regional Planning Commission</td>\n",
       "      <td>2025</td>\n",
       "      <td>annually</td>\n",
       "      <td>None</td>\n",
       "      <td>https://www.arcgis.com/apps/dashboards/21d70cd...</td>\n",
       "      <td>https://morpc1-my.sharepoint.com/:w:/g/persona...</td>\n",
       "    </tr>\n",
       "    <tr>\n",
       "      <th>15</th>\n",
       "      <td>None</td>\n",
       "      <td>TBD</td>\n",
       "      <td>Region</td>\n",
       "      <td>15-County Region</td>\n",
       "      <td>None</td>\n",
       "      <td>TBD</td>\n",
       "      <td>TBD</td>\n",
       "      <td>https://raw.githubusercontent.com/morpc-insigh...</td>\n",
       "      <td>Mid-Ohio Regional Planning Commission</td>\n",
       "      <td>2025</td>\n",
       "      <td>annually</td>\n",
       "      <td>None</td>\n",
       "      <td>https://www.arcgis.com/apps/dashboards/21d70cd...</td>\n",
       "      <td>https://morpc1-my.sharepoint.com/:w:/g/persona...</td>\n",
       "    </tr>\n",
       "  </tbody>\n",
       "</table>\n",
       "</div>"
      ],
      "text/plain": [
       "   TileID TilesetID GeographyType     GeographyName Category Headline  \\\n",
       "0    None       TBD        County   Delaware County     None      TBD   \n",
       "1    None       TBD        County  Fairfield County     None      TBD   \n",
       "2    None       TBD        County    Fayette County     None      TBD   \n",
       "3    None       TBD        County   Franklin County     None      TBD   \n",
       "4    None       TBD        County    Hocking County     None      TBD   \n",
       "5    None       TBD        County       Knox County     None      TBD   \n",
       "6    None       TBD        County    Licking County     None      TBD   \n",
       "7    None       TBD        County      Logan County     None      TBD   \n",
       "8    None       TBD        County    Madison County     None      TBD   \n",
       "9    None       TBD        County     Marion County     None      TBD   \n",
       "10   None       TBD        County     Morrow County     None      TBD   \n",
       "11   None       TBD        County      Perry County     None      TBD   \n",
       "12   None       TBD        County   Pickaway County     None      TBD   \n",
       "13   None       TBD        County       Ross County     None      TBD   \n",
       "14   None       TBD        County      Union County     None      TBD   \n",
       "15   None       TBD        Region  15-County Region     None      TBD   \n",
       "\n",
       "   Commentary                                       ThumbnailURL  \\\n",
       "0         TBD  https://raw.githubusercontent.com/morpc-insigh...   \n",
       "1         TBD  https://raw.githubusercontent.com/morpc-insigh...   \n",
       "2         TBD  https://raw.githubusercontent.com/morpc-insigh...   \n",
       "3         TBD  https://raw.githubusercontent.com/morpc-insigh...   \n",
       "4         TBD  https://raw.githubusercontent.com/morpc-insigh...   \n",
       "5         TBD  https://raw.githubusercontent.com/morpc-insigh...   \n",
       "6         TBD  https://raw.githubusercontent.com/morpc-insigh...   \n",
       "7         TBD  https://raw.githubusercontent.com/morpc-insigh...   \n",
       "8         TBD  https://raw.githubusercontent.com/morpc-insigh...   \n",
       "9         TBD  https://raw.githubusercontent.com/morpc-insigh...   \n",
       "10        TBD  https://raw.githubusercontent.com/morpc-insigh...   \n",
       "11        TBD  https://raw.githubusercontent.com/morpc-insigh...   \n",
       "12        TBD  https://raw.githubusercontent.com/morpc-insigh...   \n",
       "13        TBD  https://raw.githubusercontent.com/morpc-insigh...   \n",
       "14        TBD  https://raw.githubusercontent.com/morpc-insigh...   \n",
       "15        TBD  https://raw.githubusercontent.com/morpc-insigh...   \n",
       "\n",
       "                              Contributor Vintage UpdateInterval ShareURL  \\\n",
       "0   Mid-Ohio Regional Planning Commission    2025       annually     None   \n",
       "1   Mid-Ohio Regional Planning Commission    2025       annually     None   \n",
       "2   Mid-Ohio Regional Planning Commission    2025       annually     None   \n",
       "3   Mid-Ohio Regional Planning Commission    2025       annually     None   \n",
       "4   Mid-Ohio Regional Planning Commission    2025       annually     None   \n",
       "5   Mid-Ohio Regional Planning Commission    2025       annually     None   \n",
       "6   Mid-Ohio Regional Planning Commission    2025       annually     None   \n",
       "7   Mid-Ohio Regional Planning Commission    2025       annually     None   \n",
       "8   Mid-Ohio Regional Planning Commission    2025       annually     None   \n",
       "9   Mid-Ohio Regional Planning Commission    2025       annually     None   \n",
       "10  Mid-Ohio Regional Planning Commission    2025       annually     None   \n",
       "11  Mid-Ohio Regional Planning Commission    2025       annually     None   \n",
       "12  Mid-Ohio Regional Planning Commission    2025       annually     None   \n",
       "13  Mid-Ohio Regional Planning Commission    2025       annually     None   \n",
       "14  Mid-Ohio Regional Planning Commission    2025       annually     None   \n",
       "15  Mid-Ohio Regional Planning Commission    2025       annually     None   \n",
       "\n",
       "                                       DataProductURL  \\\n",
       "0   https://www.arcgis.com/apps/dashboards/21d70cd...   \n",
       "1   https://www.arcgis.com/apps/dashboards/21d70cd...   \n",
       "2   https://www.arcgis.com/apps/dashboards/21d70cd...   \n",
       "3   https://www.arcgis.com/apps/dashboards/21d70cd...   \n",
       "4   https://www.arcgis.com/apps/dashboards/21d70cd...   \n",
       "5   https://www.arcgis.com/apps/dashboards/21d70cd...   \n",
       "6   https://www.arcgis.com/apps/dashboards/21d70cd...   \n",
       "7   https://www.arcgis.com/apps/dashboards/21d70cd...   \n",
       "8   https://www.arcgis.com/apps/dashboards/21d70cd...   \n",
       "9   https://www.arcgis.com/apps/dashboards/21d70cd...   \n",
       "10  https://www.arcgis.com/apps/dashboards/21d70cd...   \n",
       "11  https://www.arcgis.com/apps/dashboards/21d70cd...   \n",
       "12  https://www.arcgis.com/apps/dashboards/21d70cd...   \n",
       "13  https://www.arcgis.com/apps/dashboards/21d70cd...   \n",
       "14  https://www.arcgis.com/apps/dashboards/21d70cd...   \n",
       "15  https://www.arcgis.com/apps/dashboards/21d70cd...   \n",
       "\n",
       "                                   MoreInformationURL  \n",
       "0   https://morpc1-my.sharepoint.com/:w:/g/persona...  \n",
       "1   https://morpc1-my.sharepoint.com/:w:/g/persona...  \n",
       "2   https://morpc1-my.sharepoint.com/:w:/g/persona...  \n",
       "3   https://morpc1-my.sharepoint.com/:w:/g/persona...  \n",
       "4   https://morpc1-my.sharepoint.com/:w:/g/persona...  \n",
       "5   https://morpc1-my.sharepoint.com/:w:/g/persona...  \n",
       "6   https://morpc1-my.sharepoint.com/:w:/g/persona...  \n",
       "7   https://morpc1-my.sharepoint.com/:w:/g/persona...  \n",
       "8   https://morpc1-my.sharepoint.com/:w:/g/persona...  \n",
       "9   https://morpc1-my.sharepoint.com/:w:/g/persona...  \n",
       "10  https://morpc1-my.sharepoint.com/:w:/g/persona...  \n",
       "11  https://morpc1-my.sharepoint.com/:w:/g/persona...  \n",
       "12  https://morpc1-my.sharepoint.com/:w:/g/persona...  \n",
       "13  https://morpc1-my.sharepoint.com/:w:/g/persona...  \n",
       "14  https://morpc1-my.sharepoint.com/:w:/g/persona...  \n",
       "15  https://morpc1-my.sharepoint.com/:w:/g/persona...  "
      ]
     },
     "execution_count": 541,
     "metadata": {},
     "output_type": "execute_result"
    }
   ],
   "source": [
    "catalog"
   ]
  }
 ],
 "metadata": {
  "kernelspec": {
   "display_name": "Python 3 (ipykernel)",
   "language": "python",
   "name": "python3"
  },
  "language_info": {
   "codemirror_mode": {
    "name": "ipython",
    "version": 3
   },
   "file_extension": ".py",
   "mimetype": "text/x-python",
   "name": "python",
   "nbconvert_exporter": "python",
   "pygments_lexer": "ipython3",
   "version": "3.12.3"
  }
 },
 "nbformat": 4,
 "nbformat_minor": 5
}
